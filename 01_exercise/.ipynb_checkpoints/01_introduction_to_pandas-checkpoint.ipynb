{
 "cells": [
  {
   "cell_type": "markdown",
   "id": "47a616fd",
   "metadata": {},
   "source": [
    "## Data Analyst at Trading Company"
   ]
  },
  {
   "cell_type": "markdown",
   "id": "6559b5b3",
   "metadata": {},
   "source": [
    "## Task 1: Create a pandas DataFrame"
   ]
  },
  {
   "cell_type": "markdown",
   "id": "3bda8f68-c14a-4478-b361-ec97e0e62c90",
   "metadata": {},
   "source": [
    "## Task 2: Provide Sneak peek into Data"
   ]
  },
  {
   "cell_type": "markdown",
   "id": "21ea26da-f038-4c82-a90f-d71db6afcdc4",
   "metadata": {},
   "source": [
    "## Task 3: Explore columns and Index"
   ]
  },
  {
   "cell_type": "markdown",
   "id": "661f7ed8-3fed-4a7d-9c9b-b61239cd5596",
   "metadata": {},
   "source": [
    "## Task 4: Sort the Data"
   ]
  },
  {
   "cell_type": "markdown",
   "id": "e36d3c63-ffaa-4903-8cfb-60096922b169",
   "metadata": {},
   "source": [
    "## Task 5: Get missing Data information."
   ]
  },
  {
   "cell_type": "markdown",
   "id": "c66c2868-e476-4685-a6ad-f082387bfb13",
   "metadata": {},
   "source": [
    "## Task 6: Mitigate missing Data information."
   ]
  },
  {
   "cell_type": "markdown",
   "id": "13b5071c-7016-400a-9dbc-aa46c06b151f",
   "metadata": {},
   "source": [
    "## Task 7: Get basic statistics."
   ]
  },
  {
   "cell_type": "markdown",
   "id": "e948c8ee",
   "metadata": {},
   "source": [
    "## Task 8: Select Data."
   ]
  },
  {
   "cell_type": "markdown",
   "id": "5b846f2e",
   "metadata": {},
   "source": [
    "## Task 9: Merge Data."
   ]
  },
  {
   "cell_type": "markdown",
   "id": "c1f2669e",
   "metadata": {},
   "source": [
    "## Task 10: SQL Style Joins."
   ]
  },
  {
   "cell_type": "markdown",
   "id": "61d6f7fb",
   "metadata": {},
   "source": [
    "## Task 11: Plot"
   ]
  },
  {
   "cell_type": "markdown",
   "id": "696b46f6",
   "metadata": {},
   "source": [
    "## Summary"
   ]
  }
 ],
 "metadata": {
  "kernelspec": {
   "display_name": "Python 3 (ipykernel)",
   "language": "python",
   "name": "python3"
  },
  "language_info": {
   "codemirror_mode": {
    "name": "ipython",
    "version": 3
   },
   "file_extension": ".py",
   "mimetype": "text/x-python",
   "name": "python",
   "nbconvert_exporter": "python",
   "pygments_lexer": "ipython3",
   "version": "3.10.8"
  }
 },
 "nbformat": 4,
 "nbformat_minor": 5
}
