{
 "cells": [
  {
   "cell_type": "markdown",
   "id": "47a616fd",
   "metadata": {},
   "source": [
    "## Data Analyst at an Investment Company"
   ]
  },
  {
   "cell_type": "code",
   "execution_count": null,
   "id": "c3333f87-a720-42bf-94dd-0921da68d348",
   "metadata": {},
   "outputs": [],
   "source": []
  },
  {
   "cell_type": "markdown",
   "id": "6559b5b3",
   "metadata": {},
   "source": [
    "## TASK 1: Data Exploration"
   ]
  },
  {
   "cell_type": "code",
   "execution_count": 12,
   "id": "039313b2-f501-4b8a-a3a7-2f09728a2c23",
   "metadata": {},
   "outputs": [
    {
     "name": "stdout",
     "output_type": "stream",
     "text": [
      "commodities_futures_combined.csv   commodity_futures_from_2020.csv\n",
      "commodity_futures_2000_to_2019.csv commodity_futures_wheat_sugar.csv\n"
     ]
    }
   ],
   "source": [
    "!ls ../01_data"
   ]
  },
  {
   "cell_type": "markdown",
   "id": "7a0d4651-3321-4d54-b020-41b1a113cde1",
   "metadata": {},
   "source": [
    "### Task 1a: Open CSV File"
   ]
  },
  {
   "cell_type": "code",
   "execution_count": null,
   "id": "01c80a7e-2a6b-4f3a-9407-f42ad4b3403c",
   "metadata": {},
   "outputs": [],
   "source": []
  },
  {
   "cell_type": "markdown",
   "id": "eca71f61-7984-4174-b51f-71af426744a5",
   "metadata": {},
   "source": [
    "### Task 1b: Inspect Data"
   ]
  },
  {
   "cell_type": "code",
   "execution_count": null,
   "id": "cddd066e-d710-4a68-a90e-8efe81f6d575",
   "metadata": {},
   "outputs": [],
   "source": []
  },
  {
   "cell_type": "code",
   "execution_count": null,
   "id": "d12e82df-761f-4b37-8278-dff5970e765e",
   "metadata": {},
   "outputs": [],
   "source": []
  },
  {
   "cell_type": "code",
   "execution_count": null,
   "id": "9d8e6878-5551-414e-804d-1a73662895b0",
   "metadata": {},
   "outputs": [],
   "source": []
  },
  {
   "cell_type": "code",
   "execution_count": null,
   "id": "92bf331e-d0af-412f-a204-5eaf3da9ee94",
   "metadata": {},
   "outputs": [],
   "source": []
  },
  {
   "cell_type": "markdown",
   "id": "3900ed7e-2ae2-4261-95bb-970a21bcfec6",
   "metadata": {},
   "source": [
    "### Task 1c: Sort the Data"
   ]
  },
  {
   "cell_type": "code",
   "execution_count": null,
   "id": "4971595f-f440-4b9a-8475-232eb3d05c47",
   "metadata": {},
   "outputs": [],
   "source": []
  },
  {
   "cell_type": "code",
   "execution_count": null,
   "id": "99eeb4d1-40f4-4903-a1f6-97bd19da53fb",
   "metadata": {},
   "outputs": [],
   "source": []
  },
  {
   "cell_type": "code",
   "execution_count": null,
   "id": "db884400-a0d8-4be1-bed0-06cddf5d1f8c",
   "metadata": {},
   "outputs": [],
   "source": []
  },
  {
   "cell_type": "markdown",
   "id": "f26f27cc-1265-413e-b0de-264d7618d3da",
   "metadata": {},
   "source": [
    "### Task 1d: Get missing Data information."
   ]
  },
  {
   "cell_type": "code",
   "execution_count": null,
   "id": "4b997d47-9dc1-4627-a6f5-d6c4e838bdf6",
   "metadata": {},
   "outputs": [],
   "source": []
  },
  {
   "cell_type": "code",
   "execution_count": null,
   "id": "fb7be743-e61d-43f8-8c8c-31b7ba8bea59",
   "metadata": {},
   "outputs": [],
   "source": []
  },
  {
   "cell_type": "markdown",
   "id": "cd7f4401-adaa-49ff-a4f1-19e05084db01",
   "metadata": {},
   "source": [
    "### Task 1e: Mitigate missing Data information."
   ]
  },
  {
   "cell_type": "code",
   "execution_count": null,
   "id": "c83aa60f-279c-4df2-9721-ff57f22f88c0",
   "metadata": {},
   "outputs": [],
   "source": []
  },
  {
   "cell_type": "code",
   "execution_count": null,
   "id": "19bd08a9-dd6b-4101-942f-3c2b5d26b242",
   "metadata": {},
   "outputs": [],
   "source": []
  },
  {
   "cell_type": "markdown",
   "id": "cda1a53f-5a67-4295-9a8d-9b4b8eb44cfc",
   "metadata": {},
   "source": [
    "### Task 1f: Get basic statistics"
   ]
  },
  {
   "cell_type": "code",
   "execution_count": null,
   "id": "c19d7146-d06e-4a0e-a79b-c39ff51fc021",
   "metadata": {},
   "outputs": [],
   "source": []
  },
  {
   "cell_type": "markdown",
   "id": "e948c8ee",
   "metadata": {},
   "source": [
    "## TASK 2: Data Selection and Filtering."
   ]
  },
  {
   "cell_type": "code",
   "execution_count": null,
   "id": "bc7a694f-af40-4c98-b300-25422e9ae4c8",
   "metadata": {},
   "outputs": [],
   "source": [
    "df_sorted.columns"
   ]
  },
  {
   "cell_type": "markdown",
   "id": "55bf2983-3f0f-48c6-8032-bea5127200aa",
   "metadata": {},
   "source": [
    "### Task 2a: Select Column."
   ]
  },
  {
   "cell_type": "code",
   "execution_count": null,
   "id": "d8d2e973-96af-4fd4-8037-5cf32aedac41",
   "metadata": {},
   "outputs": [],
   "source": []
  },
  {
   "cell_type": "markdown",
   "id": "c30d8e83-a716-43a9-8b0b-ad59355a6647",
   "metadata": {},
   "source": [
    "### Task 2b: Select Slice of Rows."
   ]
  },
  {
   "cell_type": "code",
   "execution_count": null,
   "id": "68eb8074-baa7-491b-a799-c3eb305f2f9c",
   "metadata": {},
   "outputs": [],
   "source": []
  },
  {
   "cell_type": "markdown",
   "id": "ab3cd255-04ff-4920-80f2-41501d8bbcdf",
   "metadata": {},
   "source": [
    "### Task 2c: Select first 3 rows."
   ]
  },
  {
   "cell_type": "code",
   "execution_count": null,
   "id": "5745e295-6dce-474b-ab07-333d73a734a3",
   "metadata": {},
   "outputs": [],
   "source": []
  },
  {
   "cell_type": "markdown",
   "id": "c4db193c-dfc1-4fbc-b69e-75301b5117c9",
   "metadata": {},
   "source": [
    "### Task 2d: Select last 3 rows."
   ]
  },
  {
   "cell_type": "code",
   "execution_count": null,
   "id": "39bffdde-a28c-40ce-a7f5-53e9cd45403b",
   "metadata": {},
   "outputs": [],
   "source": []
  },
  {
   "cell_type": "markdown",
   "id": "4dfb8d27-12f8-4697-b0c3-df7dc5572ae8",
   "metadata": {},
   "source": [
    "### Task 2e: Select scalar value"
   ]
  },
  {
   "cell_type": "code",
   "execution_count": null,
   "id": "16b89138-6459-4798-9ed7-e2dd9010b6d7",
   "metadata": {},
   "outputs": [],
   "source": []
  },
  {
   "cell_type": "markdown",
   "id": "14662bfb-b72b-4b75-8f1c-beda5a41e23e",
   "metadata": {},
   "source": [
    "### Task 2f: Get min, max and median value"
   ]
  },
  {
   "cell_type": "code",
   "execution_count": null,
   "id": "5cf97309-f6b8-449e-88e8-01886b5f731f",
   "metadata": {},
   "outputs": [],
   "source": []
  },
  {
   "cell_type": "code",
   "execution_count": null,
   "id": "f442cc0b-b00e-4e8d-b424-98c765359815",
   "metadata": {},
   "outputs": [],
   "source": []
  },
  {
   "cell_type": "code",
   "execution_count": null,
   "id": "d0bceb4a-87c5-4cd4-931d-4a8ef79e1703",
   "metadata": {},
   "outputs": [],
   "source": []
  },
  {
   "cell_type": "markdown",
   "id": "3ec5f359-37c3-40a1-8830-95008ba000e7",
   "metadata": {},
   "source": [
    "### Task 2g: Filtering Data : Get all the days when soybeans was trading below median value."
   ]
  },
  {
   "cell_type": "code",
   "execution_count": null,
   "id": "23227cf2-a9f1-4610-98f0-d7f6cd666556",
   "metadata": {},
   "outputs": [],
   "source": []
  },
  {
   "cell_type": "code",
   "execution_count": null,
   "id": "fbc65991-8c19-4e39-afc7-3a7a790d4b15",
   "metadata": {},
   "outputs": [],
   "source": []
  },
  {
   "cell_type": "code",
   "execution_count": null,
   "id": "ce97a20b-fb38-4ebb-ad2b-c1d0dc3485d4",
   "metadata": {},
   "outputs": [],
   "source": []
  },
  {
   "cell_type": "code",
   "execution_count": null,
   "id": "5a589d1f-5b84-4723-9283-b9b31581f1ab",
   "metadata": {},
   "outputs": [],
   "source": []
  },
  {
   "cell_type": "markdown",
   "id": "5b846f2e",
   "metadata": {},
   "source": [
    "## TASK 3: Merge Data."
   ]
  },
  {
   "cell_type": "code",
   "execution_count": 1,
   "id": "800b2861-80bf-4706-80e7-75ddba8d65d1",
   "metadata": {},
   "outputs": [
    {
     "name": "stdout",
     "output_type": "stream",
     "text": [
      "commodities_futures_combined.csv   commodity_futures_from_2020.csv\n",
      "commodity_futures_2000_to_2019.csv commodity_futures_wheat_sugar.csv\n"
     ]
    }
   ],
   "source": [
    "!ls ../01_data"
   ]
  },
  {
   "cell_type": "code",
   "execution_count": null,
   "id": "0f4d206f-5dd0-415b-966e-ca9e4e5097c0",
   "metadata": {},
   "outputs": [],
   "source": []
  },
  {
   "cell_type": "code",
   "execution_count": null,
   "id": "39b283df-94fe-4c39-9f7e-b2f25a107089",
   "metadata": {},
   "outputs": [],
   "source": []
  },
  {
   "cell_type": "code",
   "execution_count": null,
   "id": "bfb43904-8283-4934-abbb-9dc66e8bbcef",
   "metadata": {},
   "outputs": [],
   "source": []
  },
  {
   "cell_type": "code",
   "execution_count": null,
   "id": "c32254ae-8c4d-4f31-9907-8ee5badcc39d",
   "metadata": {},
   "outputs": [],
   "source": []
  },
  {
   "cell_type": "code",
   "execution_count": null,
   "id": "f88a5b41-80fa-4d69-a662-8f8be8759d2e",
   "metadata": {},
   "outputs": [],
   "source": []
  },
  {
   "cell_type": "markdown",
   "id": "c1f2669e",
   "metadata": {},
   "source": [
    "## TASK 4: Join Data."
   ]
  },
  {
   "cell_type": "code",
   "execution_count": null,
   "id": "3acd4803-7220-4c89-9ad8-0a555e0ff207",
   "metadata": {},
   "outputs": [],
   "source": []
  },
  {
   "cell_type": "code",
   "execution_count": null,
   "id": "d95e0028-5271-4ca0-b589-c7ea39c9784c",
   "metadata": {},
   "outputs": [],
   "source": []
  },
  {
   "cell_type": "code",
   "execution_count": null,
   "id": "399dc1af-86d4-498d-8a99-331b9c9c1ee6",
   "metadata": {},
   "outputs": [],
   "source": []
  },
  {
   "cell_type": "code",
   "execution_count": null,
   "id": "128770ed-1205-45f7-bb7f-148be04a650d",
   "metadata": {},
   "outputs": [],
   "source": []
  },
  {
   "cell_type": "code",
   "execution_count": null,
   "id": "7540ba4f-9d63-4098-97c9-7d85625b51b2",
   "metadata": {},
   "outputs": [],
   "source": []
  },
  {
   "cell_type": "markdown",
   "id": "61d6f7fb",
   "metadata": {},
   "source": [
    "## TASK 5: Plot"
   ]
  },
  {
   "cell_type": "code",
   "execution_count": null,
   "id": "ddd32ec4-66b5-43b6-a7e6-8b5b7337cc68",
   "metadata": {},
   "outputs": [],
   "source": [
    "df_sorted.columns"
   ]
  },
  {
   "cell_type": "code",
   "execution_count": null,
   "id": "1e18a067-48a2-4256-906a-9d2ed8e905bf",
   "metadata": {},
   "outputs": [],
   "source": []
  },
  {
   "cell_type": "code",
   "execution_count": null,
   "id": "bed0bcf3-5a77-4f27-86d5-97cc99e7f529",
   "metadata": {},
   "outputs": [],
   "source": []
  },
  {
   "cell_type": "code",
   "execution_count": null,
   "id": "da7cc493-b4db-4f9e-bc06-66cf3a062464",
   "metadata": {},
   "outputs": [],
   "source": []
  }
 ],
 "metadata": {
  "kernelspec": {
   "display_name": "Python 3 (ipykernel)",
   "language": "python",
   "name": "python3"
  },
  "language_info": {
   "codemirror_mode": {
    "name": "ipython",
    "version": 3
   },
   "file_extension": ".py",
   "mimetype": "text/x-python",
   "name": "python",
   "nbconvert_exporter": "python",
   "pygments_lexer": "ipython3",
   "version": "3.10.8"
  }
 },
 "nbformat": 4,
 "nbformat_minor": 5
}
