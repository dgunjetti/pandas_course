{
 "cells": [
  {
   "cell_type": "markdown",
   "id": "1dfe1421-c142-40fd-819a-69fed2897b9d",
   "metadata": {},
   "source": [
    "# Groupby, Aggregation & Visualization"
   ]
  },
  {
   "cell_type": "markdown",
   "id": "a0fd87ab-a3d2-4b0e-95ed-2c0e5fa4de2d",
   "metadata": {},
   "source": [
    "## Looking to Open Pizza Restaurant"
   ]
  },
  {
   "cell_type": "markdown",
   "id": "280fb752-1249-4771-96f7-8520b0d11cf6",
   "metadata": {},
   "source": [
    "#### Dataset Source: https://www.kaggle.com/datasets/shilongzhuang/pizza-sales/data"
   ]
  },
  {
   "cell_type": "code",
   "execution_count": 1,
   "id": "4ed86ef1-3c91-4fa2-a795-dd2cc0c157c6",
   "metadata": {},
   "outputs": [],
   "source": [
    "import pandas as pd\n",
    "import matplotlib.pyplot as plt"
   ]
  },
  {
   "cell_type": "code",
   "execution_count": 2,
   "id": "16ea11a5-da7a-4414-a452-1e3960f24e3d",
   "metadata": {},
   "outputs": [
    {
     "name": "stdout",
     "output_type": "stream",
     "text": [
      "pizza_sales.xlsx\n"
     ]
    }
   ],
   "source": [
    "ls ../04_data"
   ]
  },
  {
   "cell_type": "code",
   "execution_count": 3,
   "id": "50d063a3-db46-48f9-a640-a2231f85e4df",
   "metadata": {},
   "outputs": [],
   "source": [
    "df = pd.read_excel(\"../04_data/pizza_sales.xlsx\")"
   ]
  },
  {
   "cell_type": "code",
   "execution_count": null,
   "id": "e949bfbd-69a8-4811-bf01-246a20e18936",
   "metadata": {},
   "outputs": [],
   "source": []
  },
  {
   "cell_type": "code",
   "execution_count": null,
   "id": "e34c13a4-e2fa-4c2d-9a45-e44f1fd7ee24",
   "metadata": {},
   "outputs": [],
   "source": []
  },
  {
   "cell_type": "markdown",
   "id": "78ad0bd8-cb11-402d-83e6-3981fba23bb5",
   "metadata": {},
   "source": [
    "### Task 1: Get 'month wise' pizza sales trend."
   ]
  },
  {
   "cell_type": "code",
   "execution_count": null,
   "id": "9f8bd247-013f-49da-89af-d80acda39c3c",
   "metadata": {},
   "outputs": [],
   "source": []
  },
  {
   "cell_type": "code",
   "execution_count": null,
   "id": "c1ff3839-7e40-47a0-91e2-b5ebd22d3e38",
   "metadata": {},
   "outputs": [],
   "source": []
  },
  {
   "cell_type": "code",
   "execution_count": null,
   "id": "14733c1c-22e5-40ea-90be-d2ad73a72038",
   "metadata": {},
   "outputs": [],
   "source": []
  },
  {
   "cell_type": "code",
   "execution_count": null,
   "id": "2d22ad5d-c037-463b-8633-06d5e630d80f",
   "metadata": {},
   "outputs": [],
   "source": []
  },
  {
   "cell_type": "code",
   "execution_count": null,
   "id": "9e3943d2-b6cc-4487-bb39-892caec4ca85",
   "metadata": {},
   "outputs": [],
   "source": []
  },
  {
   "cell_type": "code",
   "execution_count": null,
   "id": "1620e232-7d4e-4887-a72b-0963ebf759d1",
   "metadata": {},
   "outputs": [],
   "source": []
  },
  {
   "cell_type": "code",
   "execution_count": null,
   "id": "dd6b1e9b-83e8-4069-bb8c-533e017f9413",
   "metadata": {},
   "outputs": [],
   "source": []
  },
  {
   "cell_type": "code",
   "execution_count": null,
   "id": "581d341f-3786-4468-ba3e-9d6d07d246d2",
   "metadata": {},
   "outputs": [],
   "source": []
  },
  {
   "cell_type": "code",
   "execution_count": null,
   "id": "46078e8e-8556-4044-9d3c-84539d128396",
   "metadata": {},
   "outputs": [],
   "source": []
  },
  {
   "cell_type": "code",
   "execution_count": null,
   "id": "4627b60b-4817-42f3-b89f-60d1d980f97c",
   "metadata": {},
   "outputs": [],
   "source": []
  },
  {
   "cell_type": "code",
   "execution_count": null,
   "id": "4b3b17bb-c18f-4d87-8111-3bb80a57c9db",
   "metadata": {},
   "outputs": [],
   "source": []
  },
  {
   "cell_type": "code",
   "execution_count": null,
   "id": "c009d5f8-c99f-45cc-9371-cabd977519ba",
   "metadata": {},
   "outputs": [],
   "source": []
  },
  {
   "cell_type": "code",
   "execution_count": null,
   "id": "176cafbd-02de-495b-a1ee-52bd5445dbcd",
   "metadata": {},
   "outputs": [],
   "source": []
  },
  {
   "cell_type": "code",
   "execution_count": null,
   "id": "0f138886-c50c-4a6c-ab71-2b74577bbcbd",
   "metadata": {},
   "outputs": [],
   "source": []
  },
  {
   "cell_type": "code",
   "execution_count": null,
   "id": "8b03fd24-901e-483c-9bb1-0e1027436fdf",
   "metadata": {},
   "outputs": [],
   "source": []
  },
  {
   "cell_type": "code",
   "execution_count": null,
   "id": "575e620c-e5f7-4587-b756-bf5e7b33c184",
   "metadata": {},
   "outputs": [],
   "source": []
  },
  {
   "cell_type": "code",
   "execution_count": 4,
   "id": "7437ca63-6bdb-47ea-9c3f-567035272567",
   "metadata": {},
   "outputs": [],
   "source": [
    "custom_order = ['January', 'February', 'March', 'April', 'May', 'June', 'July', 'August', 'September', 'October', 'November', 'December']"
   ]
  },
  {
   "cell_type": "code",
   "execution_count": null,
   "id": "5f091d79-3542-4c18-87d8-917d3fc891bb",
   "metadata": {},
   "outputs": [],
   "source": []
  },
  {
   "cell_type": "code",
   "execution_count": null,
   "id": "c29d19b3-1391-42aa-98ee-757273a40f3b",
   "metadata": {},
   "outputs": [],
   "source": []
  },
  {
   "cell_type": "code",
   "execution_count": null,
   "id": "23ddc1d9-f9d0-48b9-bda0-10e22f8471e3",
   "metadata": {},
   "outputs": [],
   "source": []
  },
  {
   "cell_type": "code",
   "execution_count": null,
   "id": "2542d77c-a960-4be0-b45a-f5d231cb9da6",
   "metadata": {},
   "outputs": [],
   "source": []
  },
  {
   "cell_type": "code",
   "execution_count": null,
   "id": "9a2e1c07-ca20-4811-a717-752941e92ab6",
   "metadata": {},
   "outputs": [],
   "source": []
  },
  {
   "cell_type": "markdown",
   "id": "1a9c7cd2-6514-4b23-ade5-45f48ccbeb70",
   "metadata": {},
   "source": [
    "### Task 2: Get number of sales and revenue across different categories."
   ]
  },
  {
   "cell_type": "code",
   "execution_count": null,
   "id": "0e7377e3-8bfa-4b94-b049-08b74b02e93f",
   "metadata": {},
   "outputs": [],
   "source": []
  },
  {
   "cell_type": "code",
   "execution_count": null,
   "id": "80cec037-7e21-44a5-9ad7-18c2de1983c0",
   "metadata": {},
   "outputs": [],
   "source": []
  },
  {
   "cell_type": "code",
   "execution_count": null,
   "id": "6ac600d0-9765-4ef4-90ab-429ca78fab3e",
   "metadata": {},
   "outputs": [],
   "source": []
  },
  {
   "cell_type": "code",
   "execution_count": null,
   "id": "7c40577c-419d-455e-ba3d-2fe5fe5e5750",
   "metadata": {},
   "outputs": [],
   "source": []
  },
  {
   "cell_type": "code",
   "execution_count": null,
   "id": "93f7fc3a-30ec-4a00-955c-e25e6a1baab1",
   "metadata": {},
   "outputs": [],
   "source": []
  },
  {
   "cell_type": "code",
   "execution_count": null,
   "id": "4ed1d6ed-a2f9-4d87-a0e9-536b8b097a36",
   "metadata": {},
   "outputs": [],
   "source": []
  },
  {
   "cell_type": "markdown",
   "id": "c2d39828-8d07-406d-aacb-775955783958",
   "metadata": {},
   "source": [
    "### Task 3: Get Order distribution by pizza size."
   ]
  },
  {
   "cell_type": "code",
   "execution_count": null,
   "id": "64d1ced2-f94d-42ea-b52b-0a4a1a7d03f5",
   "metadata": {},
   "outputs": [],
   "source": []
  },
  {
   "cell_type": "markdown",
   "id": "1024c123-6aa8-4c2c-8615-0df41d3013fd",
   "metadata": {},
   "source": [
    "we have.. column.. pizza size.. (3s).. "
   ]
  },
  {
   "cell_type": "code",
   "execution_count": null,
   "id": "3ee8c708-81fb-4c25-a8b6-02cc79f88ed5",
   "metadata": {},
   "outputs": [],
   "source": []
  },
  {
   "cell_type": "code",
   "execution_count": null,
   "id": "62dde517-c1da-4ed6-b488-855d68201dc7",
   "metadata": {},
   "outputs": [],
   "source": []
  },
  {
   "cell_type": "code",
   "execution_count": null,
   "id": "0a7d9d88-6ad4-4b54-a0e2-9df8b709fed2",
   "metadata": {},
   "outputs": [],
   "source": []
  },
  {
   "cell_type": "markdown",
   "id": "9688a928-dcfe-4bc7-ba86-d4311ad31820",
   "metadata": {},
   "source": [
    "### Task 6: Find which categories are premium, where price of pizza is higher compared to average price of pizzas for the same size, across all categories. "
   ]
  },
  {
   "cell_type": "code",
   "execution_count": null,
   "id": "fc9d83cb-c4c0-462e-a183-50dcbad80d1a",
   "metadata": {},
   "outputs": [],
   "source": []
  },
  {
   "cell_type": "code",
   "execution_count": null,
   "id": "c251271a-dcda-4fa3-a72a-038e0ecade48",
   "metadata": {},
   "outputs": [],
   "source": []
  },
  {
   "cell_type": "code",
   "execution_count": null,
   "id": "99a46091-3788-4ff2-8bee-7fac8ad9ab2e",
   "metadata": {},
   "outputs": [],
   "source": []
  },
  {
   "cell_type": "code",
   "execution_count": null,
   "id": "2dafa6de-e8b6-4f64-8a35-d4a3fa3ebd77",
   "metadata": {},
   "outputs": [],
   "source": []
  },
  {
   "cell_type": "code",
   "execution_count": null,
   "id": "246ea441-f214-4b28-b150-c722d95b0d65",
   "metadata": {},
   "outputs": [],
   "source": []
  },
  {
   "cell_type": "code",
   "execution_count": null,
   "id": "1a9de5c3-6928-4282-9796-08d4a9914923",
   "metadata": {},
   "outputs": [],
   "source": []
  },
  {
   "cell_type": "markdown",
   "id": "e1d468de-b1b3-4b39-8445-72603b18b7df",
   "metadata": {},
   "source": [
    "### Task 7: Get average order value"
   ]
  },
  {
   "cell_type": "code",
   "execution_count": null,
   "id": "8edf6286-e29c-4c20-bf61-eb136267dd15",
   "metadata": {},
   "outputs": [],
   "source": []
  },
  {
   "cell_type": "code",
   "execution_count": null,
   "id": "5a72c5a1-23cc-475f-b5e4-9c312e948103",
   "metadata": {},
   "outputs": [],
   "source": []
  },
  {
   "cell_type": "markdown",
   "id": "7a32f21f-bb08-4e38-8df2-0f20c263dd5c",
   "metadata": {},
   "source": [
    "### Task 8: Get total pizzas sold and total revenue"
   ]
  },
  {
   "cell_type": "code",
   "execution_count": null,
   "id": "b7c89b16-5d4d-4d33-8edc-bbd278ab4cad",
   "metadata": {},
   "outputs": [],
   "source": []
  },
  {
   "cell_type": "code",
   "execution_count": null,
   "id": "7a30caa0-e7a3-44e9-a9f9-f490ab4bfbe6",
   "metadata": {},
   "outputs": [],
   "source": []
  },
  {
   "cell_type": "markdown",
   "id": "1be53378-b06a-4c52-beed-591fc77d7845",
   "metadata": {},
   "source": [
    "### Task 9: Get maximum order value"
   ]
  },
  {
   "cell_type": "code",
   "execution_count": null,
   "id": "47a3a497-0cba-4b31-b399-7bcf2ad95514",
   "metadata": {},
   "outputs": [],
   "source": []
  },
  {
   "cell_type": "code",
   "execution_count": null,
   "id": "3b62141b-6af2-4af6-b3eb-937f0c760737",
   "metadata": {},
   "outputs": [],
   "source": []
  },
  {
   "cell_type": "code",
   "execution_count": null,
   "id": "6b16abbc-db8b-41d1-a93c-d93e1636af92",
   "metadata": {},
   "outputs": [],
   "source": []
  },
  {
   "cell_type": "code",
   "execution_count": null,
   "id": "0b92ec7b-f2ba-4c45-aa62-1c15ae0ff454",
   "metadata": {},
   "outputs": [],
   "source": []
  },
  {
   "cell_type": "code",
   "execution_count": null,
   "id": "e5075467-d1b3-44a3-8b4c-565f5a75392a",
   "metadata": {},
   "outputs": [],
   "source": []
  },
  {
   "cell_type": "code",
   "execution_count": null,
   "id": "4850f9b8-2434-44a5-a88c-70d06121cda6",
   "metadata": {},
   "outputs": [],
   "source": []
  },
  {
   "cell_type": "code",
   "execution_count": null,
   "id": "da252a34-4f90-4584-8b6f-d4a5033f68b5",
   "metadata": {},
   "outputs": [],
   "source": []
  },
  {
   "cell_type": "code",
   "execution_count": null,
   "id": "55b3034c-cce1-40f3-bada-1749867c111d",
   "metadata": {},
   "outputs": [],
   "source": []
  },
  {
   "cell_type": "code",
   "execution_count": null,
   "id": "7c85636b-8f6e-47b6-a88a-d6ea2a02d740",
   "metadata": {},
   "outputs": [],
   "source": []
  },
  {
   "cell_type": "code",
   "execution_count": null,
   "id": "f15c70c8-9898-464d-9657-3c6216956c2e",
   "metadata": {},
   "outputs": [],
   "source": []
  },
  {
   "cell_type": "code",
   "execution_count": null,
   "id": "54a3cc60-4246-4e36-b8e5-5292c821f583",
   "metadata": {},
   "outputs": [],
   "source": []
  },
  {
   "cell_type": "code",
   "execution_count": null,
   "id": "24d3648c-15c5-416f-8448-92c49df3e49d",
   "metadata": {},
   "outputs": [],
   "source": []
  },
  {
   "cell_type": "code",
   "execution_count": null,
   "id": "e2c2a0f8-333b-4454-8429-d4a9e9f3cee0",
   "metadata": {},
   "outputs": [],
   "source": []
  },
  {
   "cell_type": "code",
   "execution_count": null,
   "id": "db7b5f2b-12ab-40f0-bbec-1bff1b4a1e2f",
   "metadata": {},
   "outputs": [],
   "source": []
  },
  {
   "cell_type": "code",
   "execution_count": null,
   "id": "4766c195-cd32-4f75-a4db-0e3c52122742",
   "metadata": {},
   "outputs": [],
   "source": []
  }
 ],
 "metadata": {
  "kernelspec": {
   "display_name": "Python 3 (ipykernel)",
   "language": "python",
   "name": "python3"
  },
  "language_info": {
   "codemirror_mode": {
    "name": "ipython",
    "version": 3
   },
   "file_extension": ".py",
   "mimetype": "text/x-python",
   "name": "python",
   "nbconvert_exporter": "python",
   "pygments_lexer": "ipython3",
   "version": "3.10.8"
  }
 },
 "nbformat": 4,
 "nbformat_minor": 5
}
