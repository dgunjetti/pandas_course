{
 "cells": [
  {
   "cell_type": "markdown",
   "id": "1dfe1421-c142-40fd-819a-69fed2897b9d",
   "metadata": {},
   "source": [
    "# Groupby, Aggregation & Visualization"
   ]
  },
  {
   "cell_type": "markdown",
   "id": "a0fd87ab-a3d2-4b0e-95ed-2c0e5fa4de2d",
   "metadata": {},
   "source": [
    "## Looking to Open Pizza Restaurant"
   ]
  },
  {
   "cell_type": "markdown",
   "id": "280fb752-1249-4771-96f7-8520b0d11cf6",
   "metadata": {},
   "source": [
    "#### Dataset Source: https://www.kaggle.com/datasets/shilongzhuang/pizza-sales/data"
   ]
  },
  {
   "cell_type": "code",
   "execution_count": 1,
   "id": "4ed86ef1-3c91-4fa2-a795-dd2cc0c157c6",
   "metadata": {},
   "outputs": [],
   "source": [
    "import pandas as pd\n",
    "import matplotlib.pyplot as plt"
   ]
  },
  {
   "cell_type": "code",
   "execution_count": 2,
   "id": "16ea11a5-da7a-4414-a452-1e3960f24e3d",
   "metadata": {},
   "outputs": [
    {
     "name": "stdout",
     "output_type": "stream",
     "text": [
      "pizza_sales.xlsx\n"
     ]
    }
   ],
   "source": [
    "ls ../04_data"
   ]
  },
  {
   "cell_type": "code",
   "execution_count": 3,
   "id": "50d063a3-db46-48f9-a640-a2231f85e4df",
   "metadata": {},
   "outputs": [],
   "source": [
    "df = pd.read_excel(\"../04_data/pizza_sales.xlsx\")"
   ]
  },
  {
   "cell_type": "code",
   "execution_count": 4,
   "id": "e949bfbd-69a8-4811-bf01-246a20e18936",
   "metadata": {},
   "outputs": [
    {
     "data": {
      "text/html": [
       "<div>\n",
       "<style scoped>\n",
       "    .dataframe tbody tr th:only-of-type {\n",
       "        vertical-align: middle;\n",
       "    }\n",
       "\n",
       "    .dataframe tbody tr th {\n",
       "        vertical-align: top;\n",
       "    }\n",
       "\n",
       "    .dataframe thead th {\n",
       "        text-align: right;\n",
       "    }\n",
       "</style>\n",
       "<table border=\"1\" class=\"dataframe\">\n",
       "  <thead>\n",
       "    <tr style=\"text-align: right;\">\n",
       "      <th></th>\n",
       "      <th>order_details_id</th>\n",
       "      <th>order_id</th>\n",
       "      <th>pizza_id</th>\n",
       "      <th>quantity</th>\n",
       "      <th>order_date</th>\n",
       "      <th>order_time</th>\n",
       "      <th>unit_price</th>\n",
       "      <th>total_price</th>\n",
       "      <th>pizza_size</th>\n",
       "      <th>pizza_category</th>\n",
       "      <th>pizza_ingredients</th>\n",
       "      <th>pizza_name</th>\n",
       "    </tr>\n",
       "  </thead>\n",
       "  <tbody>\n",
       "    <tr>\n",
       "      <th>0</th>\n",
       "      <td>1</td>\n",
       "      <td>1</td>\n",
       "      <td>hawaiian_m</td>\n",
       "      <td>1</td>\n",
       "      <td>2015-01-01</td>\n",
       "      <td>11:38:36</td>\n",
       "      <td>13.25</td>\n",
       "      <td>13.25</td>\n",
       "      <td>M</td>\n",
       "      <td>Classic</td>\n",
       "      <td>Sliced Ham, Pineapple, Mozzarella Cheese</td>\n",
       "      <td>The Hawaiian Pizza</td>\n",
       "    </tr>\n",
       "    <tr>\n",
       "      <th>1</th>\n",
       "      <td>2</td>\n",
       "      <td>2</td>\n",
       "      <td>classic_dlx_m</td>\n",
       "      <td>1</td>\n",
       "      <td>2015-01-01</td>\n",
       "      <td>11:57:40</td>\n",
       "      <td>16.00</td>\n",
       "      <td>16.00</td>\n",
       "      <td>M</td>\n",
       "      <td>Classic</td>\n",
       "      <td>Pepperoni, Mushrooms, Red Onions, Red Peppers,...</td>\n",
       "      <td>The Classic Deluxe Pizza</td>\n",
       "    </tr>\n",
       "    <tr>\n",
       "      <th>2</th>\n",
       "      <td>3</td>\n",
       "      <td>2</td>\n",
       "      <td>five_cheese_l</td>\n",
       "      <td>1</td>\n",
       "      <td>2015-01-01</td>\n",
       "      <td>11:57:40</td>\n",
       "      <td>18.50</td>\n",
       "      <td>18.50</td>\n",
       "      <td>L</td>\n",
       "      <td>Veggie</td>\n",
       "      <td>Mozzarella Cheese, Provolone Cheese, Smoked Go...</td>\n",
       "      <td>The Five Cheese Pizza</td>\n",
       "    </tr>\n",
       "    <tr>\n",
       "      <th>3</th>\n",
       "      <td>4</td>\n",
       "      <td>2</td>\n",
       "      <td>ital_supr_l</td>\n",
       "      <td>1</td>\n",
       "      <td>2015-01-01</td>\n",
       "      <td>11:57:40</td>\n",
       "      <td>20.75</td>\n",
       "      <td>20.75</td>\n",
       "      <td>L</td>\n",
       "      <td>Supreme</td>\n",
       "      <td>Calabrese Salami, Capocollo, Tomatoes, Red Oni...</td>\n",
       "      <td>The Italian Supreme Pizza</td>\n",
       "    </tr>\n",
       "    <tr>\n",
       "      <th>4</th>\n",
       "      <td>5</td>\n",
       "      <td>2</td>\n",
       "      <td>mexicana_m</td>\n",
       "      <td>1</td>\n",
       "      <td>2015-01-01</td>\n",
       "      <td>11:57:40</td>\n",
       "      <td>16.00</td>\n",
       "      <td>16.00</td>\n",
       "      <td>M</td>\n",
       "      <td>Veggie</td>\n",
       "      <td>Tomatoes, Red Peppers, Jalapeno Peppers, Red O...</td>\n",
       "      <td>The Mexicana Pizza</td>\n",
       "    </tr>\n",
       "  </tbody>\n",
       "</table>\n",
       "</div>"
      ],
      "text/plain": [
       "   order_details_id  order_id       pizza_id  quantity order_date order_time  \\\n",
       "0                 1         1     hawaiian_m         1 2015-01-01   11:38:36   \n",
       "1                 2         2  classic_dlx_m         1 2015-01-01   11:57:40   \n",
       "2                 3         2  five_cheese_l         1 2015-01-01   11:57:40   \n",
       "3                 4         2    ital_supr_l         1 2015-01-01   11:57:40   \n",
       "4                 5         2     mexicana_m         1 2015-01-01   11:57:40   \n",
       "\n",
       "   unit_price  total_price pizza_size pizza_category  \\\n",
       "0       13.25        13.25          M        Classic   \n",
       "1       16.00        16.00          M        Classic   \n",
       "2       18.50        18.50          L         Veggie   \n",
       "3       20.75        20.75          L        Supreme   \n",
       "4       16.00        16.00          M         Veggie   \n",
       "\n",
       "                                   pizza_ingredients  \\\n",
       "0           Sliced Ham, Pineapple, Mozzarella Cheese   \n",
       "1  Pepperoni, Mushrooms, Red Onions, Red Peppers,...   \n",
       "2  Mozzarella Cheese, Provolone Cheese, Smoked Go...   \n",
       "3  Calabrese Salami, Capocollo, Tomatoes, Red Oni...   \n",
       "4  Tomatoes, Red Peppers, Jalapeno Peppers, Red O...   \n",
       "\n",
       "                  pizza_name  \n",
       "0         The Hawaiian Pizza  \n",
       "1   The Classic Deluxe Pizza  \n",
       "2      The Five Cheese Pizza  \n",
       "3  The Italian Supreme Pizza  \n",
       "4         The Mexicana Pizza  "
      ]
     },
     "execution_count": 4,
     "metadata": {},
     "output_type": "execute_result"
    }
   ],
   "source": [
    "df.head()"
   ]
  },
  {
   "cell_type": "code",
   "execution_count": 5,
   "id": "e34c13a4-e2fa-4c2d-9a45-e44f1fd7ee24",
   "metadata": {},
   "outputs": [
    {
     "name": "stdout",
     "output_type": "stream",
     "text": [
      "<class 'pandas.core.frame.DataFrame'>\n",
      "RangeIndex: 48620 entries, 0 to 48619\n",
      "Data columns (total 12 columns):\n",
      " #   Column             Non-Null Count  Dtype         \n",
      "---  ------             --------------  -----         \n",
      " 0   order_details_id   48620 non-null  int64         \n",
      " 1   order_id           48620 non-null  int64         \n",
      " 2   pizza_id           48620 non-null  object        \n",
      " 3   quantity           48620 non-null  int64         \n",
      " 4   order_date         48620 non-null  datetime64[ns]\n",
      " 5   order_time         48620 non-null  object        \n",
      " 6   unit_price         48620 non-null  float64       \n",
      " 7   total_price        48620 non-null  float64       \n",
      " 8   pizza_size         48620 non-null  object        \n",
      " 9   pizza_category     48620 non-null  object        \n",
      " 10  pizza_ingredients  48620 non-null  object        \n",
      " 11  pizza_name         48620 non-null  object        \n",
      "dtypes: datetime64[ns](1), float64(2), int64(3), object(6)\n",
      "memory usage: 4.5+ MB\n"
     ]
    }
   ],
   "source": [
    "df.info()"
   ]
  },
  {
   "cell_type": "markdown",
   "id": "78ad0bd8-cb11-402d-83e6-3981fba23bb5",
   "metadata": {},
   "source": [
    "### Task 1: Get 'month wise' pizza sales trend."
   ]
  },
  {
   "cell_type": "code",
   "execution_count": 6,
   "id": "9f8bd247-013f-49da-89af-d80acda39c3c",
   "metadata": {},
   "outputs": [
    {
     "data": {
      "text/plain": [
       "Index(['order_details_id', 'order_id', 'pizza_id', 'quantity', 'order_date',\n",
       "       'order_time', 'unit_price', 'total_price', 'pizza_size',\n",
       "       'pizza_category', 'pizza_ingredients', 'pizza_name'],\n",
       "      dtype='object')"
      ]
     },
     "execution_count": 6,
     "metadata": {},
     "output_type": "execute_result"
    }
   ],
   "source": [
    "df.columns"
   ]
  },
  {
   "cell_type": "code",
   "execution_count": 7,
   "id": "c1ff3839-7e40-47a0-91e2-b5ebd22d3e38",
   "metadata": {},
   "outputs": [
    {
     "data": {
      "text/plain": [
       "0       2015-01-01\n",
       "1       2015-01-01\n",
       "2       2015-01-01\n",
       "3       2015-01-01\n",
       "4       2015-01-01\n",
       "           ...    \n",
       "48615   2015-12-31\n",
       "48616   2015-12-31\n",
       "48617   2015-12-31\n",
       "48618   2015-12-31\n",
       "48619   2015-12-31\n",
       "Name: order_date, Length: 48620, dtype: datetime64[ns]"
      ]
     },
     "execution_count": 7,
     "metadata": {},
     "output_type": "execute_result"
    }
   ],
   "source": [
    "df[\"order_date\"]"
   ]
  },
  {
   "cell_type": "code",
   "execution_count": 8,
   "id": "14733c1c-22e5-40ea-90be-d2ad73a72038",
   "metadata": {},
   "outputs": [
    {
     "name": "stdout",
     "output_type": "stream",
     "text": [
      "<class 'pandas.core.series.Series'>\n",
      "RangeIndex: 48620 entries, 0 to 48619\n",
      "Series name: order_date\n",
      "Non-Null Count  Dtype         \n",
      "--------------  -----         \n",
      "48620 non-null  datetime64[ns]\n",
      "dtypes: datetime64[ns](1)\n",
      "memory usage: 380.0 KB\n"
     ]
    }
   ],
   "source": [
    "df[\"order_date\"].info()"
   ]
  },
  {
   "cell_type": "code",
   "execution_count": 9,
   "id": "2d22ad5d-c037-463b-8633-06d5e630d80f",
   "metadata": {},
   "outputs": [],
   "source": [
    "df['month'] = df['order_date'].dt.month_name()"
   ]
  },
  {
   "cell_type": "code",
   "execution_count": 10,
   "id": "9e3943d2-b6cc-4487-bb39-892caec4ca85",
   "metadata": {},
   "outputs": [
    {
     "data": {
      "text/html": [
       "<div>\n",
       "<style scoped>\n",
       "    .dataframe tbody tr th:only-of-type {\n",
       "        vertical-align: middle;\n",
       "    }\n",
       "\n",
       "    .dataframe tbody tr th {\n",
       "        vertical-align: top;\n",
       "    }\n",
       "\n",
       "    .dataframe thead th {\n",
       "        text-align: right;\n",
       "    }\n",
       "</style>\n",
       "<table border=\"1\" class=\"dataframe\">\n",
       "  <thead>\n",
       "    <tr style=\"text-align: right;\">\n",
       "      <th></th>\n",
       "      <th>month</th>\n",
       "      <th>order_date</th>\n",
       "    </tr>\n",
       "  </thead>\n",
       "  <tbody>\n",
       "    <tr>\n",
       "      <th>0</th>\n",
       "      <td>January</td>\n",
       "      <td>2015-01-01</td>\n",
       "    </tr>\n",
       "    <tr>\n",
       "      <th>1</th>\n",
       "      <td>January</td>\n",
       "      <td>2015-01-01</td>\n",
       "    </tr>\n",
       "    <tr>\n",
       "      <th>2</th>\n",
       "      <td>January</td>\n",
       "      <td>2015-01-01</td>\n",
       "    </tr>\n",
       "    <tr>\n",
       "      <th>3</th>\n",
       "      <td>January</td>\n",
       "      <td>2015-01-01</td>\n",
       "    </tr>\n",
       "    <tr>\n",
       "      <th>4</th>\n",
       "      <td>January</td>\n",
       "      <td>2015-01-01</td>\n",
       "    </tr>\n",
       "    <tr>\n",
       "      <th>...</th>\n",
       "      <td>...</td>\n",
       "      <td>...</td>\n",
       "    </tr>\n",
       "    <tr>\n",
       "      <th>48615</th>\n",
       "      <td>December</td>\n",
       "      <td>2015-12-31</td>\n",
       "    </tr>\n",
       "    <tr>\n",
       "      <th>48616</th>\n",
       "      <td>December</td>\n",
       "      <td>2015-12-31</td>\n",
       "    </tr>\n",
       "    <tr>\n",
       "      <th>48617</th>\n",
       "      <td>December</td>\n",
       "      <td>2015-12-31</td>\n",
       "    </tr>\n",
       "    <tr>\n",
       "      <th>48618</th>\n",
       "      <td>December</td>\n",
       "      <td>2015-12-31</td>\n",
       "    </tr>\n",
       "    <tr>\n",
       "      <th>48619</th>\n",
       "      <td>December</td>\n",
       "      <td>2015-12-31</td>\n",
       "    </tr>\n",
       "  </tbody>\n",
       "</table>\n",
       "<p>48620 rows × 2 columns</p>\n",
       "</div>"
      ],
      "text/plain": [
       "          month order_date\n",
       "0       January 2015-01-01\n",
       "1       January 2015-01-01\n",
       "2       January 2015-01-01\n",
       "3       January 2015-01-01\n",
       "4       January 2015-01-01\n",
       "...         ...        ...\n",
       "48615  December 2015-12-31\n",
       "48616  December 2015-12-31\n",
       "48617  December 2015-12-31\n",
       "48618  December 2015-12-31\n",
       "48619  December 2015-12-31\n",
       "\n",
       "[48620 rows x 2 columns]"
      ]
     },
     "execution_count": 10,
     "metadata": {},
     "output_type": "execute_result"
    }
   ],
   "source": [
    "df[[\"month\", \"order_date\"]]"
   ]
  },
  {
   "cell_type": "code",
   "execution_count": 17,
   "id": "1620e232-7d4e-4887-a72b-0963ebf759d1",
   "metadata": {},
   "outputs": [],
   "source": [
    "month_groups = df.groupby(\"month\")"
   ]
  },
  {
   "cell_type": "code",
   "execution_count": 18,
   "id": "dd6b1e9b-83e8-4069-bb8c-533e017f9413",
   "metadata": {},
   "outputs": [
    {
     "data": {
      "text/plain": [
       "<pandas.core.groupby.generic.DataFrameGroupBy object at 0x127940dc0>"
      ]
     },
     "execution_count": 18,
     "metadata": {},
     "output_type": "execute_result"
    }
   ],
   "source": [
    "month_groups"
   ]
  },
  {
   "cell_type": "code",
   "execution_count": 19,
   "id": "581d341f-3786-4468-ba3e-9d6d07d246d2",
   "metadata": {},
   "outputs": [
    {
     "name": "stdout",
     "output_type": "stream",
     "text": [
      "name: April\n",
      "data frame: \n",
      "        order_details_id  order_id        pizza_id  quantity order_date  \\\n",
      "12234             12235      5371      sicilian_m         1 2015-04-01   \n",
      "12235             12236      5371   soppressata_l         1 2015-04-01   \n",
      "12236             12237      5372     pepperoni_m         1 2015-04-01   \n",
      "12237             12238      5372     the_greek_s         1 2015-04-01   \n",
      "12238             12239      5373   four_cheese_m         1 2015-04-01   \n",
      "...                 ...       ...             ...       ...        ...   \n",
      "16296             16297      7167      sicilian_s         1 2015-04-30   \n",
      "16297             16298      7168   five_cheese_l         1 2015-04-30   \n",
      "16298             16299      7169  green_garden_s         1 2015-04-30   \n",
      "16299             16300      7169    southw_ckn_l         1 2015-04-30   \n",
      "16300             16301      7169    the_greek_xl         1 2015-04-30   \n",
      "\n",
      "      order_time  unit_price  total_price pizza_size pizza_category  \\\n",
      "12234   11:17:06       16.25        16.25          M        Supreme   \n",
      "12235   11:17:06       20.75        20.75          L        Supreme   \n",
      "12236   11:42:11       12.50        12.50          M        Classic   \n",
      "12237   11:42:11       12.00        12.00          S        Classic   \n",
      "12238   11:48:13       14.75        14.75          M         Veggie   \n",
      "...          ...         ...          ...        ...            ...   \n",
      "16296   21:22:31       12.25        12.25          S        Supreme   \n",
      "16297   21:43:09       18.50        18.50          L         Veggie   \n",
      "16298   22:19:58       12.00        12.00          S         Veggie   \n",
      "16299   22:19:58       20.75        20.75          L        Chicken   \n",
      "16300   22:19:58       25.50        25.50         XL        Classic   \n",
      "\n",
      "                                       pizza_ingredients  \\\n",
      "12234  Coarse Sicilian Salami, Tomatoes, Green Olives...   \n",
      "12235  Soppressata Salami, Fontina Cheese, Mozzarella...   \n",
      "12236                       Mozzarella Cheese, Pepperoni   \n",
      "12237  Kalamata Olives, Feta Cheese, Tomatoes, Garlic...   \n",
      "12238  Ricotta Cheese, Gorgonzola Piccante Cheese, Mo...   \n",
      "...                                                  ...   \n",
      "16296  Coarse Sicilian Salami, Tomatoes, Green Olives...   \n",
      "16297  Mozzarella Cheese, Provolone Cheese, Smoked Go...   \n",
      "16298  Spinach, Mushrooms, Tomatoes, Green Olives, Fe...   \n",
      "16299  Chicken, Tomatoes, Red Peppers, Red Onions, Ja...   \n",
      "16300  Kalamata Olives, Feta Cheese, Tomatoes, Garlic...   \n",
      "\n",
      "                        pizza_name  month        day  hour  \n",
      "12234           The Sicilian Pizza  April  Wednesday    11  \n",
      "12235        The Soppressata Pizza  April  Wednesday    11  \n",
      "12236          The Pepperoni Pizza  April  Wednesday    11  \n",
      "12237              The Greek Pizza  April  Wednesday    11  \n",
      "12238        The Four Cheese Pizza  April  Wednesday    11  \n",
      "...                            ...    ...        ...   ...  \n",
      "16296           The Sicilian Pizza  April   Thursday    21  \n",
      "16297        The Five Cheese Pizza  April   Thursday    21  \n",
      "16298       The Green Garden Pizza  April   Thursday    22  \n",
      "16299  The Southwest Chicken Pizza  April   Thursday    22  \n",
      "16300              The Greek Pizza  April   Thursday    22  \n",
      "\n",
      "[4067 rows x 15 columns]\n",
      "name: August\n",
      "data frame: \n",
      "        order_details_id  order_id        pizza_id  quantity order_date  \\\n",
      "28866             28867     12731       bbq_ckn_m         1 2015-08-01   \n",
      "28867             28868     12731   ckn_alfredo_l         1 2015-08-01   \n",
      "28868             28869     12731      sicilian_s         1 2015-08-01   \n",
      "28869             28870     12731    spicy_ital_s         1 2015-08-01   \n",
      "28870             28871     12732   pep_msh_pep_s         1 2015-08-01   \n",
      "...                 ...       ...             ...       ...        ...   \n",
      "32955             32956     14569     calabrese_m         1 2015-08-31   \n",
      "32956             32957     14570     calabrese_m         1 2015-08-31   \n",
      "32957             32958     14570     ckn_pesto_l         1 2015-08-31   \n",
      "32958             32959     14570  spinach_supr_m         1 2015-08-31   \n",
      "32959             32960     14571    spin_pesto_s         1 2015-08-31   \n",
      "\n",
      "      order_time  unit_price  total_price pizza_size pizza_category  \\\n",
      "28866   11:36:22       16.75        16.75          M        Chicken   \n",
      "28867   11:36:22       20.75        20.75          L        Chicken   \n",
      "28868   11:36:22       12.25        12.25          S        Supreme   \n",
      "28869   11:36:22       12.50        12.50          S        Supreme   \n",
      "28870   11:41:11       11.00        11.00          S        Classic   \n",
      "...          ...         ...          ...        ...            ...   \n",
      "32955   21:08:11       16.25        16.25          M        Supreme   \n",
      "32956   22:07:24       16.25        16.25          M        Supreme   \n",
      "32957   22:07:24       20.75        20.75          L        Chicken   \n",
      "32958   22:07:24       16.50        16.50          M        Supreme   \n",
      "32959   22:17:35       12.50        12.50          S         Veggie   \n",
      "\n",
      "                                       pizza_ingredients  \\\n",
      "28866  Barbecued Chicken, Red Peppers, Green Peppers,...   \n",
      "28867  Chicken, Red Onions, Red Peppers, Mushrooms, A...   \n",
      "28868  Coarse Sicilian Salami, Tomatoes, Green Olives...   \n",
      "28869  Capocollo, Tomatoes, Goat Cheese, Artichokes, ...   \n",
      "28870                Pepperoni, Mushrooms, Green Peppers   \n",
      "...                                                  ...   \n",
      "32955  慛duja Salami, Pancetta, Tomatoes, Red Onions, ...   \n",
      "32956  慛duja Salami, Pancetta, Tomatoes, Red Onions, ...   \n",
      "32957  Chicken, Tomatoes, Red Peppers, Spinach, Garli...   \n",
      "32958  Spinach, Red Onions, Pepperoni, Tomatoes, Arti...   \n",
      "32959  Spinach, Artichokes, Tomatoes, Sun-dried Tomat...   \n",
      "\n",
      "                                       pizza_name   month       day  hour  \n",
      "28866                  The Barbecue Chicken Pizza  August  Saturday    11  \n",
      "28867                   The Chicken Alfredo Pizza  August  Saturday    11  \n",
      "28868                          The Sicilian Pizza  August  Saturday    11  \n",
      "28869                     The Spicy Italian Pizza  August  Saturday    11  \n",
      "28870  The Pepperoni, Mushroom, and Peppers Pizza  August  Saturday    11  \n",
      "...                                           ...     ...       ...   ...  \n",
      "32955                         The Calabrese Pizza  August    Monday    21  \n",
      "32956                         The Calabrese Pizza  August    Monday    22  \n",
      "32957                     The Chicken Pesto Pizza  August    Monday    22  \n",
      "32958                   The Spinach Supreme Pizza  August    Monday    22  \n",
      "32959                     The Spinach Pesto Pizza  August    Monday    22  \n",
      "\n",
      "[4094 rows x 15 columns]\n",
      "name: December\n",
      "data frame: \n",
      "        order_details_id  order_id        pizza_id  quantity order_date  \\\n",
      "44761             44762     19671   four_cheese_m         1 2015-12-01   \n",
      "44762             44763     19671  mediterraneo_s         1 2015-12-01   \n",
      "44763             44764     19672    prsc_argla_s         1 2015-12-01   \n",
      "44764             44765     19673     ckn_pesto_m         1 2015-12-01   \n",
      "44765             44766     19674   five_cheese_l         1 2015-12-01   \n",
      "...                 ...       ...             ...       ...        ...   \n",
      "48615             48616     21348   ckn_alfredo_m         1 2015-12-31   \n",
      "48616             48617     21348   four_cheese_l         1 2015-12-31   \n",
      "48617             48618     21348    napolitana_s         1 2015-12-31   \n",
      "48618             48619     21349      mexicana_l         1 2015-12-31   \n",
      "48619             48620     21350       bbq_ckn_s         1 2015-12-31   \n",
      "\n",
      "      order_time  unit_price  total_price pizza_size pizza_category  \\\n",
      "44761   11:16:22       14.75        14.75          M         Veggie   \n",
      "44762   11:16:22       12.00        12.00          S         Veggie   \n",
      "44763   11:27:16       12.50        12.50          S        Supreme   \n",
      "44764   11:37:40       16.75        16.75          M        Chicken   \n",
      "44765   11:41:14       18.50        18.50          L         Veggie   \n",
      "...          ...         ...          ...        ...            ...   \n",
      "48615   21:23:10       16.75        16.75          M        Chicken   \n",
      "48616   21:23:10       17.95        17.95          L         Veggie   \n",
      "48617   21:23:10       12.00        12.00          S        Classic   \n",
      "48618   22:09:54       20.25        20.25          L         Veggie   \n",
      "48619   23:02:05       12.75        12.75          S        Chicken   \n",
      "\n",
      "                                       pizza_ingredients  \\\n",
      "44761  Ricotta Cheese, Gorgonzola Piccante Cheese, Mo...   \n",
      "44762  Spinach, Artichokes, Kalamata Olives, Sun-drie...   \n",
      "44763  Prosciutto di San Daniele, Arugula, Mozzarella...   \n",
      "44764  Chicken, Tomatoes, Red Peppers, Spinach, Garli...   \n",
      "44765  Mozzarella Cheese, Provolone Cheese, Smoked Go...   \n",
      "...                                                  ...   \n",
      "48615  Chicken, Red Onions, Red Peppers, Mushrooms, A...   \n",
      "48616  Ricotta Cheese, Gorgonzola Piccante Cheese, Mo...   \n",
      "48617  Tomatoes, Anchovies, Green Olives, Red Onions,...   \n",
      "48618  Tomatoes, Red Peppers, Jalapeno Peppers, Red O...   \n",
      "48619  Barbecued Chicken, Red Peppers, Green Peppers,...   \n",
      "\n",
      "                             pizza_name     month       day  hour  \n",
      "44761             The Four Cheese Pizza  December   Tuesday    11  \n",
      "44762           The Mediterranean Pizza  December   Tuesday    11  \n",
      "44763  The Prosciutto and Arugula Pizza  December   Tuesday    11  \n",
      "44764           The Chicken Pesto Pizza  December   Tuesday    11  \n",
      "44765             The Five Cheese Pizza  December   Tuesday    11  \n",
      "...                                 ...       ...       ...   ...  \n",
      "48615         The Chicken Alfredo Pizza  December  Thursday    21  \n",
      "48616             The Four Cheese Pizza  December  Thursday    21  \n",
      "48617              The Napolitana Pizza  December  Thursday    21  \n",
      "48618                The Mexicana Pizza  December  Thursday    22  \n",
      "48619        The Barbecue Chicken Pizza  December  Thursday    23  \n",
      "\n",
      "[3859 rows x 15 columns]\n",
      "name: February\n",
      "data frame: \n",
      "       order_details_id  order_id        pizza_id  quantity order_date  \\\n",
      "4156              4157      1846      big_meat_s         1 2015-02-01   \n",
      "4157              4158      1847   classic_dlx_m         1 2015-02-01   \n",
      "4158              4159      1848   classic_dlx_l         1 2015-02-01   \n",
      "4159              4160      1848   ital_cpcllo_m         1 2015-02-01   \n",
      "4160              4161      1849   five_cheese_l         1 2015-02-01   \n",
      "...                ...       ...             ...       ...        ...   \n",
      "8043              8044      3529   ital_cpcllo_l         1 2015-02-28   \n",
      "8044              8045      3529  peppr_salami_m         1 2015-02-28   \n",
      "8045              8046      3530   classic_dlx_s         1 2015-02-28   \n",
      "8046              8047      3530  green_garden_s         1 2015-02-28   \n",
      "8047              8048      3530    veggie_veg_m         1 2015-02-28   \n",
      "\n",
      "     order_time  unit_price  total_price pizza_size pizza_category  \\\n",
      "4156   11:32:07        12.0         12.0          S        Classic   \n",
      "4157   11:36:27        16.0         16.0          M        Classic   \n",
      "4158   11:40:46        20.5         20.5          L        Classic   \n",
      "4159   11:40:46        16.0         16.0          M        Classic   \n",
      "4160   11:40:47        18.5         18.5          L         Veggie   \n",
      "...         ...         ...          ...        ...            ...   \n",
      "8043   21:52:13        20.5         20.5          L        Classic   \n",
      "8044   21:52:13        16.5         16.5          M        Supreme   \n",
      "8045   23:05:17        12.0         12.0          S        Classic   \n",
      "8046   23:05:17        12.0         12.0          S         Veggie   \n",
      "8047   23:05:17        16.0         16.0          M         Veggie   \n",
      "\n",
      "                                      pizza_ingredients  \\\n",
      "4156  Bacon, Pepperoni, Italian Sausage, Chorizo Sau...   \n",
      "4157  Pepperoni, Mushrooms, Red Onions, Red Peppers,...   \n",
      "4158  Pepperoni, Mushrooms, Red Onions, Red Peppers,...   \n",
      "4159  Capocollo, Red Peppers, Tomatoes, Goat Cheese,...   \n",
      "4160  Mozzarella Cheese, Provolone Cheese, Smoked Go...   \n",
      "...                                                 ...   \n",
      "8043  Capocollo, Red Peppers, Tomatoes, Goat Cheese,...   \n",
      "8044  Genoa Salami, Capocollo, Pepperoni, Tomatoes, ...   \n",
      "8045  Pepperoni, Mushrooms, Red Onions, Red Peppers,...   \n",
      "8046  Spinach, Mushrooms, Tomatoes, Green Olives, Fe...   \n",
      "8047  Mushrooms, Tomatoes, Red Peppers, Green Pepper...   \n",
      "\n",
      "                             pizza_name     month       day  hour  \n",
      "4156                 The Big Meat Pizza  February    Sunday    11  \n",
      "4157           The Classic Deluxe Pizza  February    Sunday    11  \n",
      "4158           The Classic Deluxe Pizza  February    Sunday    11  \n",
      "4159        The Italian Capocollo Pizza  February    Sunday    11  \n",
      "4160              The Five Cheese Pizza  February    Sunday    11  \n",
      "...                                 ...       ...       ...   ...  \n",
      "8043        The Italian Capocollo Pizza  February  Saturday    21  \n",
      "8044            The Pepper Salami Pizza  February  Saturday    21  \n",
      "8045           The Classic Deluxe Pizza  February  Saturday    23  \n",
      "8046             The Green Garden Pizza  February  Saturday    23  \n",
      "8047  The Vegetables + Vegetables Pizza  February  Saturday    23  \n",
      "\n",
      "[3892 rows x 15 columns]\n",
      "name: January\n",
      "data frame: \n",
      "       order_details_id  order_id        pizza_id  quantity order_date  \\\n",
      "0                    1         1      hawaiian_m         1 2015-01-01   \n",
      "1                    2         2   classic_dlx_m         1 2015-01-01   \n",
      "2                    3         2   five_cheese_l         1 2015-01-01   \n",
      "3                    4         2     ital_supr_l         1 2015-01-01   \n",
      "4                    5         2      mexicana_m         1 2015-01-01   \n",
      "...                ...       ...             ...       ...        ...   \n",
      "4151              4152      1844  spinach_supr_s         1 2015-01-31   \n",
      "4152              4153      1845   ital_veggie_l         1 2015-01-31   \n",
      "4153              4154      1845  peppr_salami_l         1 2015-01-31   \n",
      "4154              4155      1845   soppressata_s         1 2015-01-31   \n",
      "4155              4156      1845    veggie_veg_m         1 2015-01-31   \n",
      "\n",
      "     order_time  unit_price  total_price pizza_size pizza_category  \\\n",
      "0      11:38:36       13.25        13.25          M        Classic   \n",
      "1      11:57:40       16.00        16.00          M        Classic   \n",
      "2      11:57:40       18.50        18.50          L         Veggie   \n",
      "3      11:57:40       20.75        20.75          L        Supreme   \n",
      "4      11:57:40       16.00        16.00          M         Veggie   \n",
      "...         ...         ...          ...        ...            ...   \n",
      "4151   22:09:40       12.50        12.50          S        Supreme   \n",
      "4152   22:43:07       21.00        21.00          L         Veggie   \n",
      "4153   22:43:07       20.75        20.75          L        Supreme   \n",
      "4154   22:43:07       12.50        12.50          S        Supreme   \n",
      "4155   22:43:07       16.00        16.00          M         Veggie   \n",
      "\n",
      "                                      pizza_ingredients  \\\n",
      "0              Sliced Ham, Pineapple, Mozzarella Cheese   \n",
      "1     Pepperoni, Mushrooms, Red Onions, Red Peppers,...   \n",
      "2     Mozzarella Cheese, Provolone Cheese, Smoked Go...   \n",
      "3     Calabrese Salami, Capocollo, Tomatoes, Red Oni...   \n",
      "4     Tomatoes, Red Peppers, Jalapeno Peppers, Red O...   \n",
      "...                                                 ...   \n",
      "4151  Spinach, Red Onions, Pepperoni, Tomatoes, Arti...   \n",
      "4152  Eggplant, Artichokes, Tomatoes, Zucchini, Red ...   \n",
      "4153  Genoa Salami, Capocollo, Pepperoni, Tomatoes, ...   \n",
      "4154  Soppressata Salami, Fontina Cheese, Mozzarella...   \n",
      "4155  Mushrooms, Tomatoes, Red Peppers, Green Pepper...   \n",
      "\n",
      "                             pizza_name    month       day  hour  \n",
      "0                    The Hawaiian Pizza  January  Thursday    11  \n",
      "1              The Classic Deluxe Pizza  January  Thursday    11  \n",
      "2                 The Five Cheese Pizza  January  Thursday    11  \n",
      "3             The Italian Supreme Pizza  January  Thursday    11  \n",
      "4                    The Mexicana Pizza  January  Thursday    11  \n",
      "...                                 ...      ...       ...   ...  \n",
      "4151          The Spinach Supreme Pizza  January  Saturday    22  \n",
      "4152       The Italian Vegetables Pizza  January  Saturday    22  \n",
      "4153            The Pepper Salami Pizza  January  Saturday    22  \n",
      "4154              The Soppressata Pizza  January  Saturday    22  \n",
      "4155  The Vegetables + Vegetables Pizza  January  Saturday    22  \n",
      "\n",
      "[4156 rows x 15 columns]\n",
      "name: July\n",
      "data frame: \n",
      "        order_details_id  order_id        pizza_id  quantity order_date  \\\n",
      "24565             24566     10796       bbq_ckn_l         1 2015-07-01   \n",
      "24566             24567     10796      hawaiian_m         1 2015-07-01   \n",
      "24567             24568     10796     ital_supr_l         1 2015-07-01   \n",
      "24568             24569     10796    prsc_argla_l         1 2015-07-01   \n",
      "24569             24570     10796    spin_pesto_s         1 2015-07-01   \n",
      "...                 ...       ...             ...       ...        ...   \n",
      "28861             28862     12727  spinach_supr_s         1 2015-07-31   \n",
      "28862             28863     12728    napolitana_s         1 2015-07-31   \n",
      "28863             28864     12729     ital_supr_m         1 2015-07-31   \n",
      "28864             28865     12729     pepperoni_s         1 2015-07-31   \n",
      "28865             28866     12730  spinach_supr_s         1 2015-07-31   \n",
      "\n",
      "      order_time  unit_price  total_price pizza_size pizza_category  \\\n",
      "24565   11:16:34       20.75        20.75          L        Chicken   \n",
      "24566   11:16:34       13.25        13.25          M        Classic   \n",
      "24567   11:16:34       20.75        20.75          L        Supreme   \n",
      "24568   11:16:34       20.75        20.75          L        Supreme   \n",
      "24569   11:16:34       12.50        12.50          S         Veggie   \n",
      "...          ...         ...          ...        ...            ...   \n",
      "28861   22:05:12       12.50        12.50          S        Supreme   \n",
      "28862   22:18:45       12.00        12.00          S        Classic   \n",
      "28863   22:25:10       16.50        16.50          M        Supreme   \n",
      "28864   22:25:10        9.75         9.75          S        Classic   \n",
      "28865   22:41:33       12.50        12.50          S        Supreme   \n",
      "\n",
      "                                       pizza_ingredients  \\\n",
      "24565  Barbecued Chicken, Red Peppers, Green Peppers,...   \n",
      "24566           Sliced Ham, Pineapple, Mozzarella Cheese   \n",
      "24567  Calabrese Salami, Capocollo, Tomatoes, Red Oni...   \n",
      "24568  Prosciutto di San Daniele, Arugula, Mozzarella...   \n",
      "24569  Spinach, Artichokes, Tomatoes, Sun-dried Tomat...   \n",
      "...                                                  ...   \n",
      "28861  Spinach, Red Onions, Pepperoni, Tomatoes, Arti...   \n",
      "28862  Tomatoes, Anchovies, Green Olives, Red Onions,...   \n",
      "28863  Calabrese Salami, Capocollo, Tomatoes, Red Oni...   \n",
      "28864                       Mozzarella Cheese, Pepperoni   \n",
      "28865  Spinach, Red Onions, Pepperoni, Tomatoes, Arti...   \n",
      "\n",
      "                             pizza_name month        day  hour  \n",
      "24565        The Barbecue Chicken Pizza  July  Wednesday    11  \n",
      "24566                The Hawaiian Pizza  July  Wednesday    11  \n",
      "24567         The Italian Supreme Pizza  July  Wednesday    11  \n",
      "24568  The Prosciutto and Arugula Pizza  July  Wednesday    11  \n",
      "24569           The Spinach Pesto Pizza  July  Wednesday    11  \n",
      "...                                 ...   ...        ...   ...  \n",
      "28861         The Spinach Supreme Pizza  July     Friday    22  \n",
      "28862              The Napolitana Pizza  July     Friday    22  \n",
      "28863         The Italian Supreme Pizza  July     Friday    22  \n",
      "28864               The Pepperoni Pizza  July     Friday    22  \n",
      "28865         The Spinach Supreme Pizza  July     Friday    22  \n",
      "\n",
      "[4301 rows x 15 columns]\n",
      "name: June\n",
      "data frame: \n",
      "        order_details_id  order_id        pizza_id  quantity order_date  \\\n",
      "20540             20541      9023  green_garden_m         1 2015-06-01   \n",
      "20541             20542      9024    veggie_veg_m         1 2015-06-01   \n",
      "20542             20543      9025       bbq_ckn_m         1 2015-06-01   \n",
      "20543             20544      9026       bbq_ckn_s         1 2015-06-01   \n",
      "20544             20545      9026     pepperoni_s         1 2015-06-01   \n",
      "...                 ...       ...             ...       ...        ...   \n",
      "24560             24561     10794    brie_carre_s         1 2015-06-30   \n",
      "24561             24562     10794   ckn_alfredo_m         1 2015-06-30   \n",
      "24562             24563     10794    prsc_argla_m         1 2015-06-30   \n",
      "24563             24564     10794    spicy_ital_l         1 2015-06-30   \n",
      "24564             24565     10795   soppressata_l         1 2015-06-30   \n",
      "\n",
      "      order_time  unit_price  total_price pizza_size pizza_category  \\\n",
      "20540   11:21:45       16.00        16.00          M         Veggie   \n",
      "20541   11:28:08       16.00        16.00          M         Veggie   \n",
      "20542   11:28:56       16.75        16.75          M        Chicken   \n",
      "20543   11:29:05       12.75        12.75          S        Chicken   \n",
      "20544   11:29:05        9.75         9.75          S        Classic   \n",
      "...          ...         ...          ...        ...            ...   \n",
      "24560   21:36:26       23.65        23.65          S        Supreme   \n",
      "24561   21:36:26       16.75        16.75          M        Chicken   \n",
      "24562   21:36:26       16.50        16.50          M        Supreme   \n",
      "24563   21:36:26       20.75        20.75          L        Supreme   \n",
      "24564   22:17:28       20.75        20.75          L        Supreme   \n",
      "\n",
      "                                       pizza_ingredients  \\\n",
      "20540  Spinach, Mushrooms, Tomatoes, Green Olives, Fe...   \n",
      "20541  Mushrooms, Tomatoes, Red Peppers, Green Pepper...   \n",
      "20542  Barbecued Chicken, Red Peppers, Green Peppers,...   \n",
      "20543  Barbecued Chicken, Red Peppers, Green Peppers,...   \n",
      "20544                       Mozzarella Cheese, Pepperoni   \n",
      "...                                                  ...   \n",
      "24560  Brie Carre Cheese, Prosciutto, Caramelized Oni...   \n",
      "24561  Chicken, Red Onions, Red Peppers, Mushrooms, A...   \n",
      "24562  Prosciutto di San Daniele, Arugula, Mozzarella...   \n",
      "24563  Capocollo, Tomatoes, Goat Cheese, Artichokes, ...   \n",
      "24564  Soppressata Salami, Fontina Cheese, Mozzarella...   \n",
      "\n",
      "                              pizza_name month      day  hour  \n",
      "20540             The Green Garden Pizza  June   Monday    11  \n",
      "20541  The Vegetables + Vegetables Pizza  June   Monday    11  \n",
      "20542         The Barbecue Chicken Pizza  June   Monday    11  \n",
      "20543         The Barbecue Chicken Pizza  June   Monday    11  \n",
      "20544                The Pepperoni Pizza  June   Monday    11  \n",
      "...                                  ...   ...      ...   ...  \n",
      "24560               The Brie Carre Pizza  June  Tuesday    21  \n",
      "24561          The Chicken Alfredo Pizza  June  Tuesday    21  \n",
      "24562   The Prosciutto and Arugula Pizza  June  Tuesday    21  \n",
      "24563            The Spicy Italian Pizza  June  Tuesday    21  \n",
      "24564              The Soppressata Pizza  June  Tuesday    22  \n",
      "\n",
      "[4025 rows x 15 columns]\n",
      "name: March\n",
      "data frame: \n",
      "        order_details_id  order_id       pizza_id  quantity order_date  \\\n",
      "8048               8049      3531    pepperoni_m         1 2015-03-01   \n",
      "8049               8050      3532   southw_ckn_s         1 2015-03-01   \n",
      "8050               8051      3533  four_cheese_l         1 2015-03-01   \n",
      "8051               8052      3533    ital_supr_m         1 2015-03-01   \n",
      "8052               8053      3533   veggie_veg_l         1 2015-03-01   \n",
      "...                 ...       ...            ...       ...        ...   \n",
      "12229             12230      5369     hawaiian_l         1 2015-03-31   \n",
      "12230             12231      5369     mexicana_l         1 2015-03-31   \n",
      "12231             12232      5369     sicilian_s         1 2015-03-31   \n",
      "12232             12233      5369   spicy_ital_l         1 2015-03-31   \n",
      "12233             12234      5370   spicy_ital_m         1 2015-03-31   \n",
      "\n",
      "      order_time  unit_price  total_price pizza_size pizza_category  \\\n",
      "8048    11:34:00       12.50        12.50          M        Classic   \n",
      "8049    11:49:27       12.75        12.75          S        Chicken   \n",
      "8050    12:08:01       17.95        17.95          L         Veggie   \n",
      "8051    12:08:01       16.50        16.50          M        Supreme   \n",
      "8052    12:08:01       20.25        20.25          L         Veggie   \n",
      "...          ...         ...          ...        ...            ...   \n",
      "12229   22:05:04       16.50        16.50          L        Classic   \n",
      "12230   22:05:04       20.25        20.25          L         Veggie   \n",
      "12231   22:05:04       12.25        12.25          S        Supreme   \n",
      "12232   22:05:04       20.75        20.75          L        Supreme   \n",
      "12233   22:15:48       16.50        16.50          M        Supreme   \n",
      "\n",
      "                                       pizza_ingredients  \\\n",
      "8048                        Mozzarella Cheese, Pepperoni   \n",
      "8049   Chicken, Tomatoes, Red Peppers, Red Onions, Ja...   \n",
      "8050   Ricotta Cheese, Gorgonzola Piccante Cheese, Mo...   \n",
      "8051   Calabrese Salami, Capocollo, Tomatoes, Red Oni...   \n",
      "8052   Mushrooms, Tomatoes, Red Peppers, Green Pepper...   \n",
      "...                                                  ...   \n",
      "12229           Sliced Ham, Pineapple, Mozzarella Cheese   \n",
      "12230  Tomatoes, Red Peppers, Jalapeno Peppers, Red O...   \n",
      "12231  Coarse Sicilian Salami, Tomatoes, Green Olives...   \n",
      "12232  Capocollo, Tomatoes, Goat Cheese, Artichokes, ...   \n",
      "12233  Capocollo, Tomatoes, Goat Cheese, Artichokes, ...   \n",
      "\n",
      "                              pizza_name  month      day  hour  \n",
      "8048                 The Pepperoni Pizza  March   Sunday    11  \n",
      "8049         The Southwest Chicken Pizza  March   Sunday    11  \n",
      "8050               The Four Cheese Pizza  March   Sunday    12  \n",
      "8051           The Italian Supreme Pizza  March   Sunday    12  \n",
      "8052   The Vegetables + Vegetables Pizza  March   Sunday    12  \n",
      "...                                  ...    ...      ...   ...  \n",
      "12229                 The Hawaiian Pizza  March  Tuesday    22  \n",
      "12230                 The Mexicana Pizza  March  Tuesday    22  \n",
      "12231                 The Sicilian Pizza  March  Tuesday    22  \n",
      "12232            The Spicy Italian Pizza  March  Tuesday    22  \n",
      "12233            The Spicy Italian Pizza  March  Tuesday    22  \n",
      "\n",
      "[4186 rows x 15 columns]\n",
      "name: May\n",
      "data frame: \n",
      "        order_details_id  order_id       pizza_id  quantity order_date  \\\n",
      "16301             16302      7170  classic_dlx_m         1 2015-05-01   \n",
      "16302             16303      7171      bbq_ckn_s         1 2015-05-01   \n",
      "16303             16304      7172      bbq_ckn_s         1 2015-05-01   \n",
      "16304             16305      7173     mexicana_l         1 2015-05-01   \n",
      "16305             16306      7174    calabrese_m         1 2015-05-01   \n",
      "...                 ...       ...            ...       ...        ...   \n",
      "20535             20536      9019    ckn_pesto_l         1 2015-05-31   \n",
      "20536             20537      9020     big_meat_s         1 2015-05-31   \n",
      "20537             20538      9020     mexicana_l         1 2015-05-31   \n",
      "20538             20539      9021    ital_supr_l         1 2015-05-31   \n",
      "20539             20540      9022    ital_supr_l         1 2015-05-31   \n",
      "\n",
      "      order_time  unit_price  total_price pizza_size pizza_category  \\\n",
      "16301   11:31:03       16.00        16.00          M        Classic   \n",
      "16302   11:42:07       12.75        12.75          S        Chicken   \n",
      "16303   11:43:01       12.75        12.75          S        Chicken   \n",
      "16304   11:43:37       20.25        20.25          L         Veggie   \n",
      "16305   11:51:22       16.25        16.25          M        Supreme   \n",
      "...          ...         ...          ...        ...            ...   \n",
      "20535   21:15:19       20.75        20.75          L        Chicken   \n",
      "20536   21:47:28       12.00        12.00          S        Classic   \n",
      "20537   21:47:28       20.25        20.25          L         Veggie   \n",
      "20538   22:04:23       20.75        20.75          L        Supreme   \n",
      "20539   22:11:54       20.75        20.75          L        Supreme   \n",
      "\n",
      "                                       pizza_ingredients  \\\n",
      "16301  Pepperoni, Mushrooms, Red Onions, Red Peppers,...   \n",
      "16302  Barbecued Chicken, Red Peppers, Green Peppers,...   \n",
      "16303  Barbecued Chicken, Red Peppers, Green Peppers,...   \n",
      "16304  Tomatoes, Red Peppers, Jalapeno Peppers, Red O...   \n",
      "16305  慛duja Salami, Pancetta, Tomatoes, Red Onions, ...   \n",
      "...                                                  ...   \n",
      "20535  Chicken, Tomatoes, Red Peppers, Spinach, Garli...   \n",
      "20536  Bacon, Pepperoni, Italian Sausage, Chorizo Sau...   \n",
      "20537  Tomatoes, Red Peppers, Jalapeno Peppers, Red O...   \n",
      "20538  Calabrese Salami, Capocollo, Tomatoes, Red Oni...   \n",
      "20539  Calabrese Salami, Capocollo, Tomatoes, Red Oni...   \n",
      "\n",
      "                       pizza_name month     day  hour  \n",
      "16301    The Classic Deluxe Pizza   May  Friday    11  \n",
      "16302  The Barbecue Chicken Pizza   May  Friday    11  \n",
      "16303  The Barbecue Chicken Pizza   May  Friday    11  \n",
      "16304          The Mexicana Pizza   May  Friday    11  \n",
      "16305         The Calabrese Pizza   May  Friday    11  \n",
      "...                           ...   ...     ...   ...  \n",
      "20535     The Chicken Pesto Pizza   May  Sunday    21  \n",
      "20536          The Big Meat Pizza   May  Sunday    21  \n",
      "20537          The Mexicana Pizza   May  Sunday    21  \n",
      "20538   The Italian Supreme Pizza   May  Sunday    22  \n",
      "20539   The Italian Supreme Pizza   May  Sunday    22  \n",
      "\n",
      "[4239 rows x 15 columns]\n",
      "name: November\n",
      "data frame: \n",
      "        order_details_id  order_id        pizza_id  quantity order_date  \\\n",
      "40576             40577     17879   ckn_alfredo_m         1 2015-11-01   \n",
      "40577             40578     17880      big_meat_s         1 2015-11-01   \n",
      "40578             40579     17880      cali_ckn_l         1 2015-11-01   \n",
      "40579             40580     17880      cali_ckn_m         1 2015-11-01   \n",
      "40580             40581     17880  green_garden_s         1 2015-11-01   \n",
      "...                 ...       ...             ...       ...        ...   \n",
      "44756             44757     19668    southw_ckn_l         1 2015-11-30   \n",
      "44757             44758     19669   classic_dlx_m         1 2015-11-30   \n",
      "44758             44759     19670       bbq_ckn_m         2 2015-11-30   \n",
      "44759             44760     19670      big_meat_s         1 2015-11-30   \n",
      "44760             44761     19670    southw_ckn_s         1 2015-11-30   \n",
      "\n",
      "      order_time  unit_price  total_price pizza_size pizza_category  \\\n",
      "40576   11:40:19       16.75        16.75          M        Chicken   \n",
      "40577   12:12:20       12.00        12.00          S        Classic   \n",
      "40578   12:12:20       20.75        20.75          L        Chicken   \n",
      "40579   12:12:20       16.75        16.75          M        Chicken   \n",
      "40580   12:12:20       12.00        12.00          S         Veggie   \n",
      "...          ...         ...          ...        ...            ...   \n",
      "44756   21:46:27       20.75        20.75          L        Chicken   \n",
      "44757   22:26:23       16.00        16.00          M        Classic   \n",
      "44758   22:39:18       16.75        33.50          M        Chicken   \n",
      "44759   22:39:18       12.00        12.00          S        Classic   \n",
      "44760   22:39:18       12.75        12.75          S        Chicken   \n",
      "\n",
      "                                       pizza_ingredients  \\\n",
      "40576  Chicken, Red Onions, Red Peppers, Mushrooms, A...   \n",
      "40577  Bacon, Pepperoni, Italian Sausage, Chorizo Sau...   \n",
      "40578  Chicken, Artichoke, Spinach, Garlic, Jalapeno ...   \n",
      "40579  Chicken, Artichoke, Spinach, Garlic, Jalapeno ...   \n",
      "40580  Spinach, Mushrooms, Tomatoes, Green Olives, Fe...   \n",
      "...                                                  ...   \n",
      "44756  Chicken, Tomatoes, Red Peppers, Red Onions, Ja...   \n",
      "44757  Pepperoni, Mushrooms, Red Onions, Red Peppers,...   \n",
      "44758  Barbecued Chicken, Red Peppers, Green Peppers,...   \n",
      "44759  Bacon, Pepperoni, Italian Sausage, Chorizo Sau...   \n",
      "44760  Chicken, Tomatoes, Red Peppers, Red Onions, Ja...   \n",
      "\n",
      "                         pizza_name     month     day  hour  \n",
      "40576     The Chicken Alfredo Pizza  November  Sunday    11  \n",
      "40577            The Big Meat Pizza  November  Sunday    12  \n",
      "40578  The California Chicken Pizza  November  Sunday    12  \n",
      "40579  The California Chicken Pizza  November  Sunday    12  \n",
      "40580        The Green Garden Pizza  November  Sunday    12  \n",
      "...                             ...       ...     ...   ...  \n",
      "44756   The Southwest Chicken Pizza  November  Monday    21  \n",
      "44757      The Classic Deluxe Pizza  November  Monday    22  \n",
      "44758    The Barbecue Chicken Pizza  November  Monday    22  \n",
      "44759            The Big Meat Pizza  November  Monday    22  \n",
      "44760   The Southwest Chicken Pizza  November  Monday    22  \n",
      "\n",
      "[4185 rows x 15 columns]\n",
      "name: October\n",
      "data frame: \n",
      "        order_details_id  order_id        pizza_id  quantity order_date  \\\n",
      "36779             36780     16233   pep_msh_pep_m         1 2015-10-01   \n",
      "36780             36781     16233    the_greek_xl         1 2015-10-01   \n",
      "36781             36782     16234   spinach_fet_l         1 2015-10-01   \n",
      "36782             36783     16234      thai_ckn_s         1 2015-10-01   \n",
      "36783             36784     16235     ital_supr_m         1 2015-10-01   \n",
      "...                 ...       ...             ...       ...        ...   \n",
      "40571             40572     17876      mexicana_l         1 2015-10-31   \n",
      "40572             40573     17876  spinach_supr_s         1 2015-10-31   \n",
      "40573             40574     17877      thai_ckn_s         1 2015-10-31   \n",
      "40574             40575     17878     ital_supr_m         1 2015-10-31   \n",
      "40575             40576     17878    southw_ckn_m         1 2015-10-31   \n",
      "\n",
      "      order_time  unit_price  total_price pizza_size pizza_category  \\\n",
      "36779   11:40:34       14.50        14.50          M        Classic   \n",
      "36780   11:40:34       25.50        25.50         XL        Classic   \n",
      "36781   11:45:01       20.25        20.25          L         Veggie   \n",
      "36782   11:45:01       12.75        12.75          S        Chicken   \n",
      "36783   11:51:07       16.50        16.50          M        Supreme   \n",
      "...          ...         ...          ...        ...            ...   \n",
      "40571   22:12:58       20.25        20.25          L         Veggie   \n",
      "40572   22:12:58       12.50        12.50          S        Supreme   \n",
      "40573   22:17:10       12.75        12.75          S        Chicken   \n",
      "40574   22:22:40       16.50        16.50          M        Supreme   \n",
      "40575   22:22:40       16.75        16.75          M        Chicken   \n",
      "\n",
      "                                       pizza_ingredients  \\\n",
      "36779                Pepperoni, Mushrooms, Green Peppers   \n",
      "36780  Kalamata Olives, Feta Cheese, Tomatoes, Garlic...   \n",
      "36781  Spinach, Mushrooms, Red Onions, Feta Cheese, G...   \n",
      "36782  Chicken, Pineapple, Tomatoes, Red Peppers, Tha...   \n",
      "36783  Calabrese Salami, Capocollo, Tomatoes, Red Oni...   \n",
      "...                                                  ...   \n",
      "40571  Tomatoes, Red Peppers, Jalapeno Peppers, Red O...   \n",
      "40572  Spinach, Red Onions, Pepperoni, Tomatoes, Arti...   \n",
      "40573  Chicken, Pineapple, Tomatoes, Red Peppers, Tha...   \n",
      "40574  Calabrese Salami, Capocollo, Tomatoes, Red Oni...   \n",
      "40575  Chicken, Tomatoes, Red Peppers, Red Onions, Ja...   \n",
      "\n",
      "                                       pizza_name    month       day  hour  \n",
      "36779  The Pepperoni, Mushroom, and Peppers Pizza  October  Thursday    11  \n",
      "36780                             The Greek Pizza  October  Thursday    11  \n",
      "36781                  The Spinach and Feta Pizza  October  Thursday    11  \n",
      "36782                      The Thai Chicken Pizza  October  Thursday    11  \n",
      "36783                   The Italian Supreme Pizza  October  Thursday    11  \n",
      "...                                           ...      ...       ...   ...  \n",
      "40571                          The Mexicana Pizza  October  Saturday    22  \n",
      "40572                   The Spinach Supreme Pizza  October  Saturday    22  \n",
      "40573                      The Thai Chicken Pizza  October  Saturday    22  \n",
      "40574                   The Italian Supreme Pizza  October  Saturday    22  \n",
      "40575                 The Southwest Chicken Pizza  October  Saturday    22  \n",
      "\n",
      "[3797 rows x 15 columns]\n",
      "name: September\n",
      "data frame: \n",
      "        order_details_id  order_id       pizza_id  quantity order_date  \\\n",
      "32960             32961     14572  ital_cpcllo_l         1 2015-09-01   \n",
      "32961             32962     14572     thai_ckn_l         1 2015-09-01   \n",
      "32962             32963     14573     sicilian_s         1 2015-09-01   \n",
      "32963             32964     14574      bbq_ckn_l         1 2015-09-01   \n",
      "32964             32965     14574     sicilian_l         1 2015-09-01   \n",
      "...                 ...       ...            ...       ...        ...   \n",
      "36774             36775     16231     sicilian_s         1 2015-09-30   \n",
      "36775             36776     16231   spin_pesto_l         1 2015-09-30   \n",
      "36776             36777     16231   veggie_veg_m         1 2015-09-30   \n",
      "36777             36778     16232    calabrese_m         1 2015-09-30   \n",
      "36778             36779     16232     hawaiian_s         1 2015-09-30   \n",
      "\n",
      "      order_time  unit_price  total_price pizza_size pizza_category  \\\n",
      "32960   11:18:24       20.50        20.50          L        Classic   \n",
      "32961   11:18:24       20.75        20.75          L        Chicken   \n",
      "32962   11:27:17       12.25        12.25          S        Supreme   \n",
      "32963   11:49:21       20.75        20.75          L        Chicken   \n",
      "32964   11:49:21       20.25        20.25          L        Supreme   \n",
      "...          ...         ...          ...        ...            ...   \n",
      "36774   21:33:25       12.25        12.25          S        Supreme   \n",
      "36775   21:33:25       20.75        20.75          L         Veggie   \n",
      "36776   21:33:25       16.00        16.00          M         Veggie   \n",
      "36777   22:01:18       16.25        16.25          M        Supreme   \n",
      "36778   22:01:18       10.50        10.50          S        Classic   \n",
      "\n",
      "                                       pizza_ingredients  \\\n",
      "32960  Capocollo, Red Peppers, Tomatoes, Goat Cheese,...   \n",
      "32961  Chicken, Pineapple, Tomatoes, Red Peppers, Tha...   \n",
      "32962  Coarse Sicilian Salami, Tomatoes, Green Olives...   \n",
      "32963  Barbecued Chicken, Red Peppers, Green Peppers,...   \n",
      "32964  Coarse Sicilian Salami, Tomatoes, Green Olives...   \n",
      "...                                                  ...   \n",
      "36774  Coarse Sicilian Salami, Tomatoes, Green Olives...   \n",
      "36775  Spinach, Artichokes, Tomatoes, Sun-dried Tomat...   \n",
      "36776  Mushrooms, Tomatoes, Red Peppers, Green Pepper...   \n",
      "36777  慛duja Salami, Pancetta, Tomatoes, Red Onions, ...   \n",
      "36778           Sliced Ham, Pineapple, Mozzarella Cheese   \n",
      "\n",
      "                              pizza_name      month        day  hour  \n",
      "32960        The Italian Capocollo Pizza  September    Tuesday    11  \n",
      "32961             The Thai Chicken Pizza  September    Tuesday    11  \n",
      "32962                 The Sicilian Pizza  September    Tuesday    11  \n",
      "32963         The Barbecue Chicken Pizza  September    Tuesday    11  \n",
      "32964                 The Sicilian Pizza  September    Tuesday    11  \n",
      "...                                  ...        ...        ...   ...  \n",
      "36774                 The Sicilian Pizza  September  Wednesday    21  \n",
      "36775            The Spinach Pesto Pizza  September  Wednesday    21  \n",
      "36776  The Vegetables + Vegetables Pizza  September  Wednesday    21  \n",
      "36777                The Calabrese Pizza  September  Wednesday    22  \n",
      "36778                 The Hawaiian Pizza  September  Wednesday    22  \n",
      "\n",
      "[3819 rows x 15 columns]\n"
     ]
    }
   ],
   "source": [
    "for name, group in month_groups:\n",
    "    print(f'name: {name}')\n",
    "    print(f'data frame: \\n {group}')"
   ]
  },
  {
   "cell_type": "code",
   "execution_count": 85,
   "id": "46078e8e-8556-4044-9d3c-84539d128396",
   "metadata": {},
   "outputs": [],
   "source": [
    "monthly_sales = df.groupby(\"month\")[\"quantity\"].sum()"
   ]
  },
  {
   "cell_type": "code",
   "execution_count": 86,
   "id": "4627b60b-4817-42f3-b89f-60d1d980f97c",
   "metadata": {},
   "outputs": [
    {
     "data": {
      "text/plain": [
       "month\n",
       "April        4151\n",
       "August       4168\n",
       "December     3935\n",
       "February     3961\n",
       "January      4232\n",
       "July         4392\n",
       "June         4107\n",
       "March        4261\n",
       "May          4328\n",
       "November     4266\n",
       "October      3883\n",
       "September    3890\n",
       "Name: quantity, dtype: int64"
      ]
     },
     "execution_count": 86,
     "metadata": {},
     "output_type": "execute_result"
    }
   ],
   "source": [
    "monthly_sales"
   ]
  },
  {
   "cell_type": "code",
   "execution_count": 22,
   "id": "4b3b17bb-c18f-4d87-8111-3bb80a57c9db",
   "metadata": {},
   "outputs": [
    {
     "data": {
      "text/html": [
       "<div>\n",
       "<style scoped>\n",
       "    .dataframe tbody tr th:only-of-type {\n",
       "        vertical-align: middle;\n",
       "    }\n",
       "\n",
       "    .dataframe tbody tr th {\n",
       "        vertical-align: top;\n",
       "    }\n",
       "\n",
       "    .dataframe thead th {\n",
       "        text-align: right;\n",
       "    }\n",
       "</style>\n",
       "<table border=\"1\" class=\"dataframe\">\n",
       "  <thead>\n",
       "    <tr style=\"text-align: right;\">\n",
       "      <th></th>\n",
       "      <th>month</th>\n",
       "      <th>quantity</th>\n",
       "    </tr>\n",
       "  </thead>\n",
       "  <tbody>\n",
       "    <tr>\n",
       "      <th>5</th>\n",
       "      <td>July</td>\n",
       "      <td>4392</td>\n",
       "    </tr>\n",
       "    <tr>\n",
       "      <th>8</th>\n",
       "      <td>May</td>\n",
       "      <td>4328</td>\n",
       "    </tr>\n",
       "    <tr>\n",
       "      <th>9</th>\n",
       "      <td>November</td>\n",
       "      <td>4266</td>\n",
       "    </tr>\n",
       "  </tbody>\n",
       "</table>\n",
       "</div>"
      ],
      "text/plain": [
       "      month  quantity\n",
       "5      July      4392\n",
       "8       May      4328\n",
       "9  November      4266"
      ]
     },
     "execution_count": 22,
     "metadata": {},
     "output_type": "execute_result"
    }
   ],
   "source": [
    "monthly_sales.nlargest(3)"
   ]
  },
  {
   "cell_type": "code",
   "execution_count": 21,
   "id": "c009d5f8-c99f-45cc-9371-cabd977519ba",
   "metadata": {},
   "outputs": [
    {
     "data": {
      "text/html": [
       "<div>\n",
       "<style scoped>\n",
       "    .dataframe tbody tr th:only-of-type {\n",
       "        vertical-align: middle;\n",
       "    }\n",
       "\n",
       "    .dataframe tbody tr th {\n",
       "        vertical-align: top;\n",
       "    }\n",
       "\n",
       "    .dataframe thead th {\n",
       "        text-align: right;\n",
       "    }\n",
       "</style>\n",
       "<table border=\"1\" class=\"dataframe\">\n",
       "  <thead>\n",
       "    <tr style=\"text-align: right;\">\n",
       "      <th></th>\n",
       "      <th>month</th>\n",
       "      <th>quantity</th>\n",
       "    </tr>\n",
       "  </thead>\n",
       "  <tbody>\n",
       "    <tr>\n",
       "      <th>0</th>\n",
       "      <td>April</td>\n",
       "      <td>4151</td>\n",
       "    </tr>\n",
       "    <tr>\n",
       "      <th>1</th>\n",
       "      <td>August</td>\n",
       "      <td>4168</td>\n",
       "    </tr>\n",
       "    <tr>\n",
       "      <th>2</th>\n",
       "      <td>December</td>\n",
       "      <td>3935</td>\n",
       "    </tr>\n",
       "    <tr>\n",
       "      <th>3</th>\n",
       "      <td>February</td>\n",
       "      <td>3961</td>\n",
       "    </tr>\n",
       "    <tr>\n",
       "      <th>4</th>\n",
       "      <td>January</td>\n",
       "      <td>4232</td>\n",
       "    </tr>\n",
       "    <tr>\n",
       "      <th>5</th>\n",
       "      <td>July</td>\n",
       "      <td>4392</td>\n",
       "    </tr>\n",
       "    <tr>\n",
       "      <th>6</th>\n",
       "      <td>June</td>\n",
       "      <td>4107</td>\n",
       "    </tr>\n",
       "    <tr>\n",
       "      <th>7</th>\n",
       "      <td>March</td>\n",
       "      <td>4261</td>\n",
       "    </tr>\n",
       "    <tr>\n",
       "      <th>8</th>\n",
       "      <td>May</td>\n",
       "      <td>4328</td>\n",
       "    </tr>\n",
       "    <tr>\n",
       "      <th>9</th>\n",
       "      <td>November</td>\n",
       "      <td>4266</td>\n",
       "    </tr>\n",
       "    <tr>\n",
       "      <th>10</th>\n",
       "      <td>October</td>\n",
       "      <td>3883</td>\n",
       "    </tr>\n",
       "    <tr>\n",
       "      <th>11</th>\n",
       "      <td>September</td>\n",
       "      <td>3890</td>\n",
       "    </tr>\n",
       "  </tbody>\n",
       "</table>\n",
       "</div>"
      ],
      "text/plain": [
       "        month  quantity\n",
       "0       April      4151\n",
       "1      August      4168\n",
       "2    December      3935\n",
       "3    February      3961\n",
       "4     January      4232\n",
       "5        July      4392\n",
       "6        June      4107\n",
       "7       March      4261\n",
       "8         May      4328\n",
       "9    November      4266\n",
       "10    October      3883\n",
       "11  September      3890"
      ]
     },
     "execution_count": 21,
     "metadata": {},
     "output_type": "execute_result"
    }
   ],
   "source": [
    "monthly_sales = df.groupby(\"month\")[\"quantity\"].sum().reset_index()\n",
    "monthly_sales"
   ]
  },
  {
   "cell_type": "code",
   "execution_count": 23,
   "id": "176cafbd-02de-495b-a1ee-52bd5445dbcd",
   "metadata": {},
   "outputs": [
    {
     "data": {
      "image/png": "[encoded data removed]",
      "text/plain": [
       "<Figure size 640x480 with 1 Axes>"
      ]
     },
     "metadata": {},
     "output_type": "display_data"
    }
   ],
   "source": [
    "monthly_sales.plot(kind=\"bar\", x=\"month\", y=\"quantity\")\n",
    "plt.show()"
   ]
  },
  {
   "cell_type": "code",
   "execution_count": 24,
   "id": "0f138886-c50c-4a6c-ab71-2b74577bbcbd",
   "metadata": {},
   "outputs": [
    {
     "data": {
      "image/png": "[encoded data removed]",
      "text/plain": [
       "<Figure size 640x480 with 1 Axes>"
      ]
     },
     "metadata": {},
     "output_type": "display_data"
    }
   ],
   "source": [
    "monthly_sales.plot(kind=\"bar\", x=\"month\", y=\"quantity\", rot=45, legend=False)\n",
    "plt.title(\"Pizza Sales by Month\")\n",
    "plt.xlabel('Months')\n",
    "plt.ylabel('Quantity')\n",
    "plt.show()"
   ]
  },
  {
   "cell_type": "code",
   "execution_count": 25,
   "id": "8b03fd24-901e-483c-9bb1-0e1027436fdf",
   "metadata": {},
   "outputs": [
    {
     "data": {
      "image/png": "[encoded data removed]",
      "text/plain": [
       "<Figure size 1000x400 with 1 Axes>"
      ]
     },
     "metadata": {},
     "output_type": "display_data"
    }
   ],
   "source": [
    "monthly_sales.plot(kind=\"bar\", x=\"month\", y=\"quantity\", rot=45, figsize=(10,4), legend=False)\n",
    "plt.title(\"Montly Pizza Sales\")\n",
    "plt.xlabel('Months')\n",
    "plt.ylabel('Quantity')\n",
    "plt.show()"
   ]
  },
  {
   "cell_type": "code",
   "execution_count": 26,
   "id": "575e620c-e5f7-4587-b756-bf5e7b33c184",
   "metadata": {},
   "outputs": [
    {
     "name": "stdout",
     "output_type": "stream",
     "text": [
      "<class 'pandas.core.frame.DataFrame'>\n",
      "RangeIndex: 12 entries, 0 to 11\n",
      "Data columns (total 2 columns):\n",
      " #   Column    Non-Null Count  Dtype \n",
      "---  ------    --------------  ----- \n",
      " 0   month     12 non-null     object\n",
      " 1   quantity  12 non-null     int64 \n",
      "dtypes: int64(1), object(1)\n",
      "memory usage: 320.0+ bytes\n"
     ]
    }
   ],
   "source": [
    "monthly_sales.info()"
   ]
  },
  {
   "cell_type": "code",
   "execution_count": 27,
   "id": "7437ca63-6bdb-47ea-9c3f-567035272567",
   "metadata": {},
   "outputs": [],
   "source": [
    "custom_order = ['January', 'February', 'March', 'April', 'May', 'June', 'July', 'August', 'September', 'October', 'November', 'December']"
   ]
  },
  {
   "cell_type": "code",
   "execution_count": 28,
   "id": "5f091d79-3542-4c18-87d8-917d3fc891bb",
   "metadata": {},
   "outputs": [],
   "source": [
    "monthly_sales['month'] = pd.Categorical(monthly_sales['month'], categories=custom_order, \n",
    "                                     ordered=True)"
   ]
  },
  {
   "cell_type": "code",
   "execution_count": 29,
   "id": "c29d19b3-1391-42aa-98ee-757273a40f3b",
   "metadata": {},
   "outputs": [
    {
     "name": "stdout",
     "output_type": "stream",
     "text": [
      "<class 'pandas.core.frame.DataFrame'>\n",
      "RangeIndex: 12 entries, 0 to 11\n",
      "Data columns (total 2 columns):\n",
      " #   Column    Non-Null Count  Dtype   \n",
      "---  ------    --------------  -----   \n",
      " 0   month     12 non-null     category\n",
      " 1   quantity  12 non-null     int64   \n",
      "dtypes: category(1), int64(1)\n",
      "memory usage: 632.0 bytes\n"
     ]
    }
   ],
   "source": [
    "monthly_sales.info()"
   ]
  },
  {
   "cell_type": "code",
   "execution_count": 30,
   "id": "23ddc1d9-f9d0-48b9-bda0-10e22f8471e3",
   "metadata": {},
   "outputs": [],
   "source": [
    "monthly_sales = monthly_sales.sort_values('month')"
   ]
  },
  {
   "cell_type": "code",
   "execution_count": 31,
   "id": "2542d77c-a960-4be0-b45a-f5d231cb9da6",
   "metadata": {},
   "outputs": [
    {
     "data": {
      "text/html": [
       "<div>\n",
       "<style scoped>\n",
       "    .dataframe tbody tr th:only-of-type {\n",
       "        vertical-align: middle;\n",
       "    }\n",
       "\n",
       "    .dataframe tbody tr th {\n",
       "        vertical-align: top;\n",
       "    }\n",
       "\n",
       "    .dataframe thead th {\n",
       "        text-align: right;\n",
       "    }\n",
       "</style>\n",
       "<table border=\"1\" class=\"dataframe\">\n",
       "  <thead>\n",
       "    <tr style=\"text-align: right;\">\n",
       "      <th></th>\n",
       "      <th>month</th>\n",
       "      <th>quantity</th>\n",
       "    </tr>\n",
       "  </thead>\n",
       "  <tbody>\n",
       "    <tr>\n",
       "      <th>4</th>\n",
       "      <td>January</td>\n",
       "      <td>4232</td>\n",
       "    </tr>\n",
       "    <tr>\n",
       "      <th>3</th>\n",
       "      <td>February</td>\n",
       "      <td>3961</td>\n",
       "    </tr>\n",
       "    <tr>\n",
       "      <th>7</th>\n",
       "      <td>March</td>\n",
       "      <td>4261</td>\n",
       "    </tr>\n",
       "    <tr>\n",
       "      <th>0</th>\n",
       "      <td>April</td>\n",
       "      <td>4151</td>\n",
       "    </tr>\n",
       "    <tr>\n",
       "      <th>8</th>\n",
       "      <td>May</td>\n",
       "      <td>4328</td>\n",
       "    </tr>\n",
       "    <tr>\n",
       "      <th>6</th>\n",
       "      <td>June</td>\n",
       "      <td>4107</td>\n",
       "    </tr>\n",
       "    <tr>\n",
       "      <th>5</th>\n",
       "      <td>July</td>\n",
       "      <td>4392</td>\n",
       "    </tr>\n",
       "    <tr>\n",
       "      <th>1</th>\n",
       "      <td>August</td>\n",
       "      <td>4168</td>\n",
       "    </tr>\n",
       "    <tr>\n",
       "      <th>11</th>\n",
       "      <td>September</td>\n",
       "      <td>3890</td>\n",
       "    </tr>\n",
       "    <tr>\n",
       "      <th>10</th>\n",
       "      <td>October</td>\n",
       "      <td>3883</td>\n",
       "    </tr>\n",
       "    <tr>\n",
       "      <th>9</th>\n",
       "      <td>November</td>\n",
       "      <td>4266</td>\n",
       "    </tr>\n",
       "    <tr>\n",
       "      <th>2</th>\n",
       "      <td>December</td>\n",
       "      <td>3935</td>\n",
       "    </tr>\n",
       "  </tbody>\n",
       "</table>\n",
       "</div>"
      ],
      "text/plain": [
       "        month  quantity\n",
       "4     January      4232\n",
       "3    February      3961\n",
       "7       March      4261\n",
       "0       April      4151\n",
       "8         May      4328\n",
       "6        June      4107\n",
       "5        July      4392\n",
       "1      August      4168\n",
       "11  September      3890\n",
       "10    October      3883\n",
       "9    November      4266\n",
       "2    December      3935"
      ]
     },
     "execution_count": 31,
     "metadata": {},
     "output_type": "execute_result"
    }
   ],
   "source": [
    "monthly_sales"
   ]
  },
  {
   "cell_type": "code",
   "execution_count": 81,
   "id": "9a2e1c07-ca20-4811-a717-752941e92ab6",
   "metadata": {},
   "outputs": [
    {
     "data": {
      "image/png": "[encoded data removed]",
      "text/plain": [
       "<Figure size 1000x400 with 1 Axes>"
      ]
     },
     "metadata": {},
     "output_type": "display_data"
    }
   ],
   "source": [
    "monthly_sales.plot(kind=\"bar\", x=\"month\", y=\"quantity\", rot=45, legend=False, figsize=(10, 4))\n",
    "plt.title(\"Pizza Sales by Months\")\n",
    "plt.xlabel('Months')\n",
    "plt.ylabel('Quantity')\n",
    "plt.show()"
   ]
  },
  {
   "cell_type": "markdown",
   "id": "1a9c7cd2-6514-4b23-ade5-45f48ccbeb70",
   "metadata": {},
   "source": [
    "### Task 2: Get number of sales and revenue across different categories."
   ]
  },
  {
   "cell_type": "code",
   "execution_count": 41,
   "id": "0e7377e3-8bfa-4b94-b049-08b74b02e93f",
   "metadata": {},
   "outputs": [
    {
     "data": {
      "text/plain": [
       "Index(['order_details_id', 'order_id', 'pizza_id', 'quantity', 'order_date',\n",
       "       'order_time', 'unit_price', 'total_price', 'pizza_size',\n",
       "       'pizza_category', 'pizza_ingredients', 'pizza_name', 'month', 'day',\n",
       "       'hour'],\n",
       "      dtype='object')"
      ]
     },
     "execution_count": 41,
     "metadata": {},
     "output_type": "execute_result"
    }
   ],
   "source": [
    "df.columns"
   ]
  },
  {
   "cell_type": "code",
   "execution_count": 42,
   "id": "80cec037-7e21-44a5-9ad7-18c2de1983c0",
   "metadata": {},
   "outputs": [
    {
     "data": {
      "text/plain": [
       "array(['Classic', 'Veggie', 'Supreme', 'Chicken'], dtype=object)"
      ]
     },
     "execution_count": 42,
     "metadata": {},
     "output_type": "execute_result"
    }
   ],
   "source": [
    "df[\"pizza_category\"].unique()"
   ]
  },
  {
   "cell_type": "code",
   "execution_count": 43,
   "id": "6ac600d0-9765-4ef4-90ab-429ca78fab3e",
   "metadata": {},
   "outputs": [
    {
     "data": {
      "text/plain": [
       "pizza_category\n",
       "Chicken    11050\n",
       "Classic    14888\n",
       "Supreme    11987\n",
       "Veggie     11649\n",
       "Name: quantity, dtype: int64"
      ]
     },
     "execution_count": 43,
     "metadata": {},
     "output_type": "execute_result"
    }
   ],
   "source": [
    "df.groupby('pizza_category')[\"quantity\"].sum()"
   ]
  },
  {
   "cell_type": "code",
   "execution_count": 44,
   "id": "7c40577c-419d-455e-ba3d-2fe5fe5e5750",
   "metadata": {},
   "outputs": [
    {
     "data": {
      "text/plain": [
       "pizza_category\n",
       "Chicken    195919.50\n",
       "Classic    220053.10\n",
       "Supreme    208197.00\n",
       "Veggie     193690.45\n",
       "Name: unit_price, dtype: float64"
      ]
     },
     "execution_count": 44,
     "metadata": {},
     "output_type": "execute_result"
    }
   ],
   "source": [
    "df.groupby('pizza_category')[\"unit_price\"].apply(lambda x: (x * df['quantity']).sum())"
   ]
  },
  {
   "cell_type": "code",
   "execution_count": 45,
   "id": "93f7fc3a-30ec-4a00-955c-e25e6a1baab1",
   "metadata": {},
   "outputs": [],
   "source": [
    "sales_per_category = df.groupby('pizza_category').agg(\n",
    "    total_sales_per_category=('quantity', 'sum'),\n",
    "    revenue_per_category=('unit_price', lambda x: (x * df['quantity']).sum())\n",
    ").sort_values(by='revenue_per_category', ascending=False)"
   ]
  },
  {
   "cell_type": "code",
   "execution_count": 46,
   "id": "4ed1d6ed-a2f9-4d87-a0e9-536b8b097a36",
   "metadata": {},
   "outputs": [
    {
     "data": {
      "text/html": [
       "<div>\n",
       "<style scoped>\n",
       "    .dataframe tbody tr th:only-of-type {\n",
       "        vertical-align: middle;\n",
       "    }\n",
       "\n",
       "    .dataframe tbody tr th {\n",
       "        vertical-align: top;\n",
       "    }\n",
       "\n",
       "    .dataframe thead th {\n",
       "        text-align: right;\n",
       "    }\n",
       "</style>\n",
       "<table border=\"1\" class=\"dataframe\">\n",
       "  <thead>\n",
       "    <tr style=\"text-align: right;\">\n",
       "      <th></th>\n",
       "      <th>total_sales_per_category</th>\n",
       "      <th>revenue_per_category</th>\n",
       "    </tr>\n",
       "    <tr>\n",
       "      <th>pizza_category</th>\n",
       "      <th></th>\n",
       "      <th></th>\n",
       "    </tr>\n",
       "  </thead>\n",
       "  <tbody>\n",
       "    <tr>\n",
       "      <th>Classic</th>\n",
       "      <td>14888</td>\n",
       "      <td>220053.10</td>\n",
       "    </tr>\n",
       "    <tr>\n",
       "      <th>Supreme</th>\n",
       "      <td>11987</td>\n",
       "      <td>208197.00</td>\n",
       "    </tr>\n",
       "    <tr>\n",
       "      <th>Chicken</th>\n",
       "      <td>11050</td>\n",
       "      <td>195919.50</td>\n",
       "    </tr>\n",
       "    <tr>\n",
       "      <th>Veggie</th>\n",
       "      <td>11649</td>\n",
       "      <td>193690.45</td>\n",
       "    </tr>\n",
       "  </tbody>\n",
       "</table>\n",
       "</div>"
      ],
      "text/plain": [
       "                total_sales_per_category  revenue_per_category\n",
       "pizza_category                                                \n",
       "Classic                            14888             220053.10\n",
       "Supreme                            11987             208197.00\n",
       "Chicken                            11050             195919.50\n",
       "Veggie                             11649             193690.45"
      ]
     },
     "execution_count": 46,
     "metadata": {},
     "output_type": "execute_result"
    }
   ],
   "source": [
    "sales_per_category"
   ]
  },
  {
   "cell_type": "markdown",
   "id": "c2d39828-8d07-406d-aacb-775955783958",
   "metadata": {},
   "source": [
    "### Task 3: Get Order distribution by pizza size."
   ]
  },
  {
   "cell_type": "code",
   "execution_count": 47,
   "id": "64d1ced2-f94d-42ea-b52b-0a4a1a7d03f5",
   "metadata": {},
   "outputs": [
    {
     "data": {
      "text/plain": [
       "Index(['order_details_id', 'order_id', 'pizza_id', 'quantity', 'order_date',\n",
       "       'order_time', 'unit_price', 'total_price', 'pizza_size',\n",
       "       'pizza_category', 'pizza_ingredients', 'pizza_name', 'month', 'day',\n",
       "       'hour'],\n",
       "      dtype='object')"
      ]
     },
     "execution_count": 47,
     "metadata": {},
     "output_type": "execute_result"
    }
   ],
   "source": [
    "df.columns"
   ]
  },
  {
   "cell_type": "markdown",
   "id": "1024c123-6aa8-4c2c-8615-0df41d3013fd",
   "metadata": {},
   "source": [
    "we have.. column.. pizza size.. (3s).. "
   ]
  },
  {
   "cell_type": "code",
   "execution_count": 48,
   "id": "3ee8c708-81fb-4c25-a8b6-02cc79f88ed5",
   "metadata": {},
   "outputs": [
    {
     "data": {
      "text/plain": [
       "array(['M', 'L', 'S', 'XL', 'XXL'], dtype=object)"
      ]
     },
     "execution_count": 48,
     "metadata": {},
     "output_type": "execute_result"
    }
   ],
   "source": [
    "df[\"pizza_size\"].unique()"
   ]
  },
  {
   "cell_type": "code",
   "execution_count": 49,
   "id": "62dde517-c1da-4ed6-b488-855d68201dc7",
   "metadata": {},
   "outputs": [
    {
     "name": "stdout",
     "output_type": "stream",
     "text": [
      "            orders  percentage\n",
      "pizza_size                    \n",
      "L            18956   38.237786\n",
      "M            15635   31.538710\n",
      "S            14403   29.053536\n",
      "XL             552    1.113487\n",
      "XXL             28    0.056481\n"
     ]
    },
    {
     "name": "stderr",
     "output_type": "stream",
     "text": [
      "/var/folders/fz/vq1nstt92pb750vxln8mrc_80000gn/T/ipykernel_2939/2343519278.py:2: FutureWarning: The provided callable <built-in function sum> is currently using SeriesGroupBy.sum. In a future version of pandas, the provided callable will be used directly. To keep current behavior pass the string \"sum\" instead.\n",
      "  df.groupby(\"pizza_size\")\n"
     ]
    }
   ],
   "source": [
    "sales_by_size = df.groupby(\"pizza_size\")\n",
    "    .agg(orders=(\"quantity\", \"sum\"))\n",
    "    .assign(percentage=lambda x: (x[\"orders\"] / x[\"orders\"].sum()) * 100.0)\n",
    "\n",
    "print(sales_by_size)"
   ]
  },
  {
   "cell_type": "code",
   "execution_count": 50,
   "id": "0a7d9d88-6ad4-4b54-a0e2-9df8b709fed2",
   "metadata": {},
   "outputs": [
    {
     "data": {
      "image/png": "[encoded data removed]",
      "text/plain": [
       "<Figure size 640x480 with 1 Axes>"
      ]
     },
     "metadata": {},
     "output_type": "display_data"
    }
   ],
   "source": [
    "sales_by_size[\"percentage\"].plot.pie(autopct=\"%1.1f%%\")\n",
    "plt.title(\"Pizza Sales By Size\")\n",
    "plt.show()"
   ]
  },
  {
   "cell_type": "markdown",
   "id": "9688a928-dcfe-4bc7-ba86-d4311ad31820",
   "metadata": {},
   "source": [
    "### Task 6: Find which categories are premium, where price of pizza is higher compared to average price of pizzas for the same size, across all categories. "
   ]
  },
  {
   "cell_type": "code",
   "execution_count": 77,
   "id": "fc9d83cb-c4c0-462e-a183-50dcbad80d1a",
   "metadata": {},
   "outputs": [
    {
     "data": {
      "text/plain": [
       "pizza_size\n",
       "L      19.802553\n",
       "M      15.951219\n",
       "S      12.364328\n",
       "XL     25.500000\n",
       "XXL    35.950000\n",
       "Name: unit_price, dtype: float64"
      ]
     },
     "execution_count": 77,
     "metadata": {},
     "output_type": "execute_result"
    }
   ],
   "source": [
    "df.groupby(\"pizza_size\")['unit_price'].mean()"
   ]
  },
  {
   "cell_type": "code",
   "execution_count": 78,
   "id": "c251271a-dcda-4fa3-a72a-038e0ecade48",
   "metadata": {},
   "outputs": [],
   "source": [
    "df['average_price_by_size'] = df.groupby(\"pizza_size\")['unit_price'].transform('mean')"
   ]
  },
  {
   "cell_type": "code",
   "execution_count": 79,
   "id": "99a46091-3788-4ff2-8bee-7fac8ad9ab2e",
   "metadata": {},
   "outputs": [
    {
     "data": {
      "text/html": [
       "<div>\n",
       "<style scoped>\n",
       "    .dataframe tbody tr th:only-of-type {\n",
       "        vertical-align: middle;\n",
       "    }\n",
       "\n",
       "    .dataframe tbody tr th {\n",
       "        vertical-align: top;\n",
       "    }\n",
       "\n",
       "    .dataframe thead th {\n",
       "        text-align: right;\n",
       "    }\n",
       "</style>\n",
       "<table border=\"1\" class=\"dataframe\">\n",
       "  <thead>\n",
       "    <tr style=\"text-align: right;\">\n",
       "      <th></th>\n",
       "      <th>pizza_size</th>\n",
       "      <th>unit_price</th>\n",
       "      <th>average_price_by_size</th>\n",
       "    </tr>\n",
       "  </thead>\n",
       "  <tbody>\n",
       "    <tr>\n",
       "      <th>0</th>\n",
       "      <td>M</td>\n",
       "      <td>13.25</td>\n",
       "      <td>15.951219</td>\n",
       "    </tr>\n",
       "    <tr>\n",
       "      <th>1</th>\n",
       "      <td>M</td>\n",
       "      <td>16.00</td>\n",
       "      <td>15.951219</td>\n",
       "    </tr>\n",
       "    <tr>\n",
       "      <th>2</th>\n",
       "      <td>L</td>\n",
       "      <td>18.50</td>\n",
       "      <td>19.802553</td>\n",
       "    </tr>\n",
       "    <tr>\n",
       "      <th>3</th>\n",
       "      <td>L</td>\n",
       "      <td>20.75</td>\n",
       "      <td>19.802553</td>\n",
       "    </tr>\n",
       "    <tr>\n",
       "      <th>4</th>\n",
       "      <td>M</td>\n",
       "      <td>16.00</td>\n",
       "      <td>15.951219</td>\n",
       "    </tr>\n",
       "    <tr>\n",
       "      <th>...</th>\n",
       "      <td>...</td>\n",
       "      <td>...</td>\n",
       "      <td>...</td>\n",
       "    </tr>\n",
       "    <tr>\n",
       "      <th>48615</th>\n",
       "      <td>M</td>\n",
       "      <td>16.75</td>\n",
       "      <td>15.951219</td>\n",
       "    </tr>\n",
       "    <tr>\n",
       "      <th>48616</th>\n",
       "      <td>L</td>\n",
       "      <td>17.95</td>\n",
       "      <td>19.802553</td>\n",
       "    </tr>\n",
       "    <tr>\n",
       "      <th>48617</th>\n",
       "      <td>S</td>\n",
       "      <td>12.00</td>\n",
       "      <td>12.364328</td>\n",
       "    </tr>\n",
       "    <tr>\n",
       "      <th>48618</th>\n",
       "      <td>L</td>\n",
       "      <td>20.25</td>\n",
       "      <td>19.802553</td>\n",
       "    </tr>\n",
       "    <tr>\n",
       "      <th>48619</th>\n",
       "      <td>S</td>\n",
       "      <td>12.75</td>\n",
       "      <td>12.364328</td>\n",
       "    </tr>\n",
       "  </tbody>\n",
       "</table>\n",
       "<p>48620 rows × 3 columns</p>\n",
       "</div>"
      ],
      "text/plain": [
       "      pizza_size  unit_price  average_price_by_size\n",
       "0              M       13.25              15.951219\n",
       "1              M       16.00              15.951219\n",
       "2              L       18.50              19.802553\n",
       "3              L       20.75              19.802553\n",
       "4              M       16.00              15.951219\n",
       "...          ...         ...                    ...\n",
       "48615          M       16.75              15.951219\n",
       "48616          L       17.95              19.802553\n",
       "48617          S       12.00              12.364328\n",
       "48618          L       20.25              19.802553\n",
       "48619          S       12.75              12.364328\n",
       "\n",
       "[48620 rows x 3 columns]"
      ]
     },
     "execution_count": 79,
     "metadata": {},
     "output_type": "execute_result"
    }
   ],
   "source": [
    "df[['pizza_size', 'unit_price', 'average_price_by_size']]"
   ]
  },
  {
   "cell_type": "code",
   "execution_count": null,
   "id": "2dafa6de-e8b6-4f64-8a35-d4a3fa3ebd77",
   "metadata": {},
   "outputs": [],
   "source": [
    "df['is_premium'] = df['unit_price'] > df['average_price_by_size']"
   ]
  },
  {
   "cell_type": "code",
   "execution_count": 83,
   "id": "246ea441-f214-4b28-b150-c722d95b0d65",
   "metadata": {},
   "outputs": [],
   "source": [
    "premium_categories = df.groupby('pizza_category').filter(\n",
    "                        lambda x: x['is_premium'].all())['pizza_category'].unique()"
   ]
  },
  {
   "cell_type": "code",
   "execution_count": 84,
   "id": "1a9de5c3-6928-4282-9796-08d4a9914923",
   "metadata": {},
   "outputs": [
    {
     "data": {
      "text/plain": [
       "array(['Chicken'], dtype=object)"
      ]
     },
     "execution_count": 84,
     "metadata": {},
     "output_type": "execute_result"
    }
   ],
   "source": [
    "premium_categories"
   ]
  },
  {
   "cell_type": "markdown",
   "id": "e1d468de-b1b3-4b39-8445-72603b18b7df",
   "metadata": {},
   "source": [
    "### Task 7: Get average order value"
   ]
  },
  {
   "cell_type": "code",
   "execution_count": 51,
   "id": "8edf6286-e29c-4c20-bf61-eb136267dd15",
   "metadata": {},
   "outputs": [
    {
     "data": {
      "text/plain": [
       "16.821473673385437"
      ]
     },
     "execution_count": 51,
     "metadata": {},
     "output_type": "execute_result"
    }
   ],
   "source": [
    "df[\"total_price\"].mean()"
   ]
  },
  {
   "cell_type": "code",
   "execution_count": 52,
   "id": "5a72c5a1-23cc-475f-b5e4-9c312e948103",
   "metadata": {},
   "outputs": [
    {
     "data": {
      "text/plain": [
       "1.0196215549156726"
      ]
     },
     "execution_count": 52,
     "metadata": {},
     "output_type": "execute_result"
    }
   ],
   "source": [
    "df[\"quantity\"].mean()"
   ]
  },
  {
   "cell_type": "markdown",
   "id": "7a32f21f-bb08-4e38-8df2-0f20c263dd5c",
   "metadata": {},
   "source": [
    "### Task 8: Get total pizzas sold and total revenue"
   ]
  },
  {
   "cell_type": "code",
   "execution_count": 53,
   "id": "b7c89b16-5d4d-4d33-8edc-bbd278ab4cad",
   "metadata": {},
   "outputs": [
    {
     "data": {
      "text/plain": [
       "49574"
      ]
     },
     "execution_count": 53,
     "metadata": {},
     "output_type": "execute_result"
    }
   ],
   "source": [
    "df[\"quantity\"].sum()"
   ]
  },
  {
   "cell_type": "code",
   "execution_count": 54,
   "id": "7a30caa0-e7a3-44e9-a9f9-f490ab4bfbe6",
   "metadata": {},
   "outputs": [
    {
     "data": {
      "text/plain": [
       "817860.05"
      ]
     },
     "execution_count": 54,
     "metadata": {},
     "output_type": "execute_result"
    }
   ],
   "source": [
    "df[\"total_price\"].sum()"
   ]
  },
  {
   "cell_type": "markdown",
   "id": "1be53378-b06a-4c52-beed-591fc77d7845",
   "metadata": {},
   "source": [
    "### Task 9: Get maximum order value"
   ]
  },
  {
   "cell_type": "code",
   "execution_count": 55,
   "id": "47a3a497-0cba-4b31-b399-7bcf2ad95514",
   "metadata": {},
   "outputs": [
    {
     "data": {
      "text/plain": [
       "83.0"
      ]
     },
     "execution_count": 55,
     "metadata": {},
     "output_type": "execute_result"
    }
   ],
   "source": [
    "df[\"total_price\"].max()"
   ]
  },
  {
   "cell_type": "code",
   "execution_count": null,
   "id": "3b62141b-6af2-4af6-b3eb-937f0c760737",
   "metadata": {},
   "outputs": [],
   "source": []
  },
  {
   "cell_type": "code",
   "execution_count": null,
   "id": "6b16abbc-db8b-41d1-a93c-d93e1636af92",
   "metadata": {},
   "outputs": [],
   "source": []
  },
  {
   "cell_type": "code",
   "execution_count": null,
   "id": "0b92ec7b-f2ba-4c45-aa62-1c15ae0ff454",
   "metadata": {},
   "outputs": [],
   "source": []
  },
  {
   "cell_type": "code",
   "execution_count": null,
   "id": "e5075467-d1b3-44a3-8b4c-565f5a75392a",
   "metadata": {},
   "outputs": [],
   "source": []
  },
  {
   "cell_type": "code",
   "execution_count": null,
   "id": "4850f9b8-2434-44a5-a88c-70d06121cda6",
   "metadata": {},
   "outputs": [],
   "source": []
  },
  {
   "cell_type": "code",
   "execution_count": null,
   "id": "da252a34-4f90-4584-8b6f-d4a5033f68b5",
   "metadata": {},
   "outputs": [],
   "source": []
  },
  {
   "cell_type": "code",
   "execution_count": null,
   "id": "55b3034c-cce1-40f3-bada-1749867c111d",
   "metadata": {},
   "outputs": [],
   "source": []
  },
  {
   "cell_type": "code",
   "execution_count": null,
   "id": "7c85636b-8f6e-47b6-a88a-d6ea2a02d740",
   "metadata": {},
   "outputs": [],
   "source": []
  },
  {
   "cell_type": "code",
   "execution_count": null,
   "id": "f15c70c8-9898-464d-9657-3c6216956c2e",
   "metadata": {},
   "outputs": [],
   "source": []
  },
  {
   "cell_type": "code",
   "execution_count": null,
   "id": "54a3cc60-4246-4e36-b8e5-5292c821f583",
   "metadata": {},
   "outputs": [],
   "source": []
  },
  {
   "cell_type": "code",
   "execution_count": null,
   "id": "24d3648c-15c5-416f-8448-92c49df3e49d",
   "metadata": {},
   "outputs": [],
   "source": []
  },
  {
   "cell_type": "code",
   "execution_count": null,
   "id": "e2c2a0f8-333b-4454-8429-d4a9e9f3cee0",
   "metadata": {},
   "outputs": [],
   "source": []
  },
  {
   "cell_type": "code",
   "execution_count": null,
   "id": "db7b5f2b-12ab-40f0-bbec-1bff1b4a1e2f",
   "metadata": {},
   "outputs": [],
   "source": []
  },
  {
   "cell_type": "code",
   "execution_count": null,
   "id": "4766c195-cd32-4f75-a4db-0e3c52122742",
   "metadata": {},
   "outputs": [],
   "source": []
  }
 ],
 "metadata": {
  "kernelspec": {
   "display_name": "Python 3 (ipykernel)",
   "language": "python",
   "name": "python3"
  },
  "language_info": {
   "codemirror_mode": {
    "name": "ipython",
    "version": 3
   },
   "file_extension": ".py",
   "mimetype": "text/x-python",
   "name": "python",
   "nbconvert_exporter": "python",
   "pygments_lexer": "ipython3",
   "version": "3.10.8"
  }
 },
 "nbformat": 4,
 "nbformat_minor": 5
}
