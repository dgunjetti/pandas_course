{
 "cells": [
  {
   "cell_type": "markdown",
   "id": "9274fbaf-a23b-43fe-bff8-f7e3e0bb39d5",
   "metadata": {},
   "source": [
    "# Data Selection & Filtering"
   ]
  },
  {
   "cell_type": "markdown",
   "id": "73fcf5ff-05c3-41e9-8183-aecb07b8ab3c",
   "metadata": {},
   "source": [
    "## Looking for New Career Opportunities"
   ]
  },
  {
   "cell_type": "code",
   "execution_count": 1,
   "id": "3d60822d-796c-46d7-ba72-dfa37ac1f693",
   "metadata": {},
   "outputs": [],
   "source": [
    "import numpy as np\n",
    "import pandas as pd\n",
    "import matplotlib.pyplot as plt\n",
    "import re"
   ]
  },
  {
   "cell_type": "code",
   "execution_count": null,
   "id": "700a4aae-ae93-4b1f-9d00-5a8eb7ffb0e6",
   "metadata": {},
   "outputs": [],
   "source": [
    "ls ../03_data"
   ]
  },
  {
   "cell_type": "markdown",
   "id": "44c4ba61-9c7f-4f95-9bd8-bb685201204d",
   "metadata": {},
   "source": [
    "### pip install openpyxl"
   ]
  },
  {
   "cell_type": "code",
   "execution_count": null,
   "id": "1c327f0e-c07c-4f1f-ad5f-4a0d00a9b92e",
   "metadata": {},
   "outputs": [],
   "source": []
  },
  {
   "cell_type": "code",
   "execution_count": null,
   "id": "62dcfc77-56e2-4463-922d-bd7b6d9d4f1f",
   "metadata": {},
   "outputs": [],
   "source": []
  },
  {
   "cell_type": "code",
   "execution_count": null,
   "id": "5f89b9e6-8973-41ea-b43d-e8028310e77e",
   "metadata": {},
   "outputs": [],
   "source": []
  },
  {
   "cell_type": "markdown",
   "id": "8f340dbb-e515-4aa1-a3af-a4f5375d2aab",
   "metadata": {},
   "source": [
    "### Task 1: Get job and location for the Job ID 3471657636"
   ]
  },
  {
   "cell_type": "code",
   "execution_count": null,
   "id": "f5aa0606-df0d-4f56-805f-c6e56da028d4",
   "metadata": {},
   "outputs": [],
   "source": []
  },
  {
   "cell_type": "code",
   "execution_count": null,
   "id": "6c94d2df-a1c6-40fc-a4e4-d4a814e425ce",
   "metadata": {},
   "outputs": [],
   "source": []
  },
  {
   "cell_type": "code",
   "execution_count": null,
   "id": "9c8048fd-26c3-4952-8b75-d2110ca8e1cc",
   "metadata": {},
   "outputs": [],
   "source": []
  },
  {
   "cell_type": "markdown",
   "id": "b1fc83e1-e2e5-4985-86ae-fc887330137c",
   "metadata": {},
   "source": [
    "### Task 2: Get the first Remote job entry in our dataset by position.  "
   ]
  },
  {
   "cell_type": "code",
   "execution_count": null,
   "id": "b0f485d5-5af4-406e-9de8-fccf402fc1b3",
   "metadata": {},
   "outputs": [],
   "source": []
  },
  {
   "cell_type": "code",
   "execution_count": null,
   "id": "fe571072-3035-4322-a157-f6985aede010",
   "metadata": {},
   "outputs": [],
   "source": []
  },
  {
   "cell_type": "code",
   "execution_count": null,
   "id": "cc33c135-d0e3-4cff-b5b5-bfa727a31bc1",
   "metadata": {},
   "outputs": [],
   "source": []
  },
  {
   "cell_type": "code",
   "execution_count": null,
   "id": "dc80a6d3-1b95-422b-b100-098c46a9f775",
   "metadata": {},
   "outputs": [],
   "source": []
  },
  {
   "cell_type": "markdown",
   "id": "7321e666-c27d-4856-9436-1b5070dee1cc",
   "metadata": {},
   "source": [
    "### Task 3: Get list of jobs in Bengaluru for Data Analyst of work type hybrid at Walmart Global Tech India or Target."
   ]
  },
  {
   "cell_type": "markdown",
   "id": "7435c3bd-e5d6-471c-b508-8d8d3bc8e411",
   "metadata": {},
   "source": [
    "#### Tast 3a: Select job openings in Bengaluru"
   ]
  },
  {
   "cell_type": "code",
   "execution_count": null,
   "id": "01fe2e1a-0820-4f52-9696-186fbbbc4971",
   "metadata": {},
   "outputs": [],
   "source": []
  },
  {
   "cell_type": "code",
   "execution_count": null,
   "id": "4c840547-ccc4-44ca-94cc-91081036cd71",
   "metadata": {},
   "outputs": [],
   "source": []
  },
  {
   "cell_type": "code",
   "execution_count": null,
   "id": "5461e180-7643-4275-a4c1-e872f4d2d591",
   "metadata": {},
   "outputs": [],
   "source": []
  },
  {
   "cell_type": "markdown",
   "id": "4a4f06c1-1f19-4e10-bfe1-b14d68596072",
   "metadata": {},
   "source": [
    "#### Tast 3b: Select job openings for Data Analyst in Bengaluru."
   ]
  },
  {
   "cell_type": "code",
   "execution_count": null,
   "id": "fa343691-ff68-4178-b4eb-12c1b3797773",
   "metadata": {},
   "outputs": [],
   "source": []
  },
  {
   "cell_type": "code",
   "execution_count": null,
   "id": "971dcb9b-b84a-4316-a917-ccfe701069f7",
   "metadata": {},
   "outputs": [],
   "source": []
  },
  {
   "cell_type": "markdown",
   "id": "f86af81c-ccc4-4edd-a138-20ba7bb2a8e8",
   "metadata": {},
   "source": [
    "#### Tast 3c: Select job openings for Data Analyst which are Hybrid at Bengaluru "
   ]
  },
  {
   "cell_type": "code",
   "execution_count": null,
   "id": "101b2d59-d10d-48d6-b095-f74da583efad",
   "metadata": {},
   "outputs": [],
   "source": []
  },
  {
   "cell_type": "markdown",
   "id": "0709b31f-83d0-48a5-9919-8114bb53e7a8",
   "metadata": {},
   "source": [
    "#### Tast 3d: Select job entries for Data Analyst in Bengaluru which are Hybrid at companies \"Walmart Global Tech India\" or \"Target\""
   ]
  },
  {
   "cell_type": "code",
   "execution_count": null,
   "id": "2317c0ee-d98a-4b79-872e-f26ea3490f1b",
   "metadata": {},
   "outputs": [],
   "source": []
  },
  {
   "cell_type": "markdown",
   "id": "0e8cadd2-b8e9-4cea-9cd8-fc6e804dc2ab",
   "metadata": {},
   "source": [
    "### Task 4: Set Application Follow Up Priority based on Location and Work Type. "
   ]
  },
  {
   "cell_type": "code",
   "execution_count": null,
   "id": "52d414d2-1c03-4105-8d7e-e6833ae5e343",
   "metadata": {},
   "outputs": [],
   "source": []
  },
  {
   "cell_type": "code",
   "execution_count": null,
   "id": "eec6e2c6-ded3-40c6-9f70-00ec9df50f4e",
   "metadata": {},
   "outputs": [],
   "source": []
  },
  {
   "cell_type": "code",
   "execution_count": null,
   "id": "cd0ef812-6cb0-4a06-9ada-3c844cfdf725",
   "metadata": {},
   "outputs": [],
   "source": []
  },
  {
   "cell_type": "code",
   "execution_count": null,
   "id": "e4eb6ea5-6618-4563-b5ee-9c8d76957a84",
   "metadata": {},
   "outputs": [],
   "source": []
  },
  {
   "cell_type": "markdown",
   "id": "cd4e93b6-abc9-486e-8475-cc24db828a85",
   "metadata": {},
   "source": [
    "### Task 5: Get Salary of Data Analyst."
   ]
  },
  {
   "cell_type": "code",
   "execution_count": null,
   "id": "0582c181-8852-4635-87e9-68af988ed474",
   "metadata": {},
   "outputs": [],
   "source": []
  },
  {
   "cell_type": "code",
   "execution_count": null,
   "id": "649b3f95-f421-4699-ad1e-a01ef37d3e33",
   "metadata": {},
   "outputs": [],
   "source": []
  },
  {
   "cell_type": "code",
   "execution_count": null,
   "id": "501e6557-5374-4984-9a47-032ef4cd7b34",
   "metadata": {},
   "outputs": [],
   "source": []
  },
  {
   "cell_type": "code",
   "execution_count": null,
   "id": "fc4fe5c4-0719-4d98-8117-b697850f6f4a",
   "metadata": {},
   "outputs": [],
   "source": []
  },
  {
   "cell_type": "code",
   "execution_count": null,
   "id": "e91ff720-e2c3-4f3e-bc9b-d8adce56997f",
   "metadata": {},
   "outputs": [],
   "source": []
  },
  {
   "cell_type": "code",
   "execution_count": null,
   "id": "472c570f-1fa3-4e34-aea0-e31c9056f5b9",
   "metadata": {},
   "outputs": [],
   "source": []
  },
  {
   "cell_type": "markdown",
   "id": "b6ec0213-c1d9-42c5-b2f0-9212c8c229e3",
   "metadata": {},
   "source": [
    "### Task 6: Get Designation and Location which has highest number of openings."
   ]
  },
  {
   "cell_type": "code",
   "execution_count": null,
   "id": "9234da29-e9e9-432e-9fe6-41e44c71a9f5",
   "metadata": {},
   "outputs": [],
   "source": []
  },
  {
   "cell_type": "code",
   "execution_count": null,
   "id": "2ff5f27f-1ad7-400f-b8da-b14e567d7f1d",
   "metadata": {},
   "outputs": [],
   "source": []
  },
  {
   "cell_type": "code",
   "execution_count": null,
   "id": "51bf093b-a1df-4bff-8e1a-2593a2cd1839",
   "metadata": {},
   "outputs": [],
   "source": []
  },
  {
   "cell_type": "code",
   "execution_count": null,
   "id": "0d9f6685-6415-4f6a-8c22-e828a71e5b42",
   "metadata": {},
   "outputs": [],
   "source": []
  },
  {
   "cell_type": "code",
   "execution_count": null,
   "id": "c42b79ae-0ba6-493c-b80a-4b631274ffe5",
   "metadata": {},
   "outputs": [],
   "source": []
  },
  {
   "cell_type": "code",
   "execution_count": null,
   "id": "e000a626-21d6-4d14-9862-abf1689c19fa",
   "metadata": {},
   "outputs": [],
   "source": []
  },
  {
   "cell_type": "code",
   "execution_count": null,
   "id": "ed04f11e-eaa6-4c57-be38-87090d019169",
   "metadata": {},
   "outputs": [],
   "source": []
  },
  {
   "cell_type": "code",
   "execution_count": null,
   "id": "e04dad11-0bb1-444a-bd90-5ad22d675c52",
   "metadata": {},
   "outputs": [],
   "source": []
  },
  {
   "cell_type": "code",
   "execution_count": null,
   "id": "f162c3f2-38ef-4140-b540-3c2c4a6b7353",
   "metadata": {},
   "outputs": [],
   "source": []
  }
 ],
 "metadata": {
  "kernelspec": {
   "display_name": "Python 3 (ipykernel)",
   "language": "python",
   "name": "python3"
  },
  "language_info": {
   "codemirror_mode": {
    "name": "ipython",
    "version": 3
   },
   "file_extension": ".py",
   "mimetype": "text/x-python",
   "name": "python",
   "nbconvert_exporter": "python",
   "pygments_lexer": "ipython3",
   "version": "3.10.8"
  }
 },
 "nbformat": 4,
 "nbformat_minor": 5
}
