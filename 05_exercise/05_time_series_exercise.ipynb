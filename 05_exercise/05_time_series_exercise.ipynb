{
 "cells": [
  {
   "cell_type": "markdown",
   "id": "7bfe40e0-22fc-4bff-b279-20a55f6950c5",
   "metadata": {},
   "source": [
    "# Time Series"
   ]
  },
  {
   "cell_type": "markdown",
   "id": "c50a68a6-a4a1-4c9f-948f-0e4c16275102",
   "metadata": {},
   "source": [
    "## Data Wrangling for Stock Market Analyst"
   ]
  },
  {
   "cell_type": "code",
   "execution_count": 1,
   "id": "e77de7b7-98a9-4642-bb3b-22c1fcd5b554",
   "metadata": {},
   "outputs": [],
   "source": [
    "import pandas as pd\n",
    "import datetime\n",
    "import sys\n",
    "import matplotlib.pyplot as plt\n",
    "import plotly.graph_objects as go"
   ]
  },
  {
   "cell_type": "code",
   "execution_count": 2,
   "id": "6e36f008-07b9-439a-ada2-f7facb3be1f6",
   "metadata": {},
   "outputs": [
    {
     "name": "stdout",
     "output_type": "stream",
     "text": [
      "hdfc_bank_stock.parquet nifty_index.parquet\n"
     ]
    }
   ],
   "source": [
    "!ls ../05_data"
   ]
  },
  {
   "cell_type": "markdown",
   "id": "3917eb69-3316-403e-bfeb-188b859dab3b",
   "metadata": {},
   "source": [
    "## pip install pyarrow"
   ]
  },
  {
   "cell_type": "markdown",
   "id": "09ca60fc-42b1-4551-bbd9-0dfe8ab951e6",
   "metadata": {},
   "source": [
    "## pip install plotly"
   ]
  },
  {
   "cell_type": "markdown",
   "id": "639db969-a23c-43b3-a34c-bed5cedb58e5",
   "metadata": {},
   "source": [
    "### Task 1: Given tick data of Nifty index, plot candlestick chart for the last day in the data set."
   ]
  },
  {
   "cell_type": "code",
   "execution_count": 3,
   "id": "f3f33bdc-e1dc-4d0a-9e8d-d682b4340ff9",
   "metadata": {},
   "outputs": [],
   "source": [
    "df = pd.read_parquet('../05_data/nifty_index.parquet', engine='pyarrow')"
   ]
  },
  {
   "cell_type": "code",
   "execution_count": null,
   "id": "b8816747-6ceb-4365-8bba-2e586cb31f29",
   "metadata": {},
   "outputs": [],
   "source": []
  },
  {
   "cell_type": "code",
   "execution_count": null,
   "id": "edd54bc3-edb8-4fd6-bc83-ccf456a964d1",
   "metadata": {},
   "outputs": [],
   "source": []
  },
  {
   "cell_type": "code",
   "execution_count": null,
   "id": "77323f2f-b6c3-41c6-b4db-8ccc2801ab68",
   "metadata": {},
   "outputs": [],
   "source": []
  },
  {
   "cell_type": "code",
   "execution_count": null,
   "id": "17de9115-247b-49c7-975a-0f54394f8ffa",
   "metadata": {},
   "outputs": [],
   "source": []
  },
  {
   "cell_type": "code",
   "execution_count": null,
   "id": "ccb91dd7-62ae-46e5-b46d-f23b4c2d18cb",
   "metadata": {},
   "outputs": [],
   "source": []
  },
  {
   "cell_type": "code",
   "execution_count": null,
   "id": "873ecb8b-5107-4e30-872f-cff7a4d47a3d",
   "metadata": {},
   "outputs": [],
   "source": []
  },
  {
   "cell_type": "code",
   "execution_count": null,
   "id": "08dfb230-6e6c-4180-8925-1b0eef2abcc3",
   "metadata": {},
   "outputs": [],
   "source": []
  },
  {
   "cell_type": "markdown",
   "id": "50bf778c-2220-434a-9af1-9ec84ccec10c",
   "metadata": {},
   "source": [
    "### Create candlestick data."
   ]
  },
  {
   "cell_type": "code",
   "execution_count": null,
   "id": "b1a40afd-c004-4254-acb2-5ab4410985d1",
   "metadata": {},
   "outputs": [],
   "source": []
  },
  {
   "cell_type": "code",
   "execution_count": null,
   "id": "10ac6665-8209-4350-ac2b-4ce510f843ac",
   "metadata": {},
   "outputs": [],
   "source": []
  },
  {
   "cell_type": "code",
   "execution_count": null,
   "id": "cb7c9733-11b5-4159-941a-f376e7055649",
   "metadata": {},
   "outputs": [],
   "source": []
  },
  {
   "cell_type": "code",
   "execution_count": null,
   "id": "dd322585-9fff-4f71-98bc-3d9260e54dc5",
   "metadata": {
    "scrolled": true
   },
   "outputs": [],
   "source": []
  },
  {
   "cell_type": "markdown",
   "id": "bd17d227-e025-4bfe-a76d-11410e697618",
   "metadata": {},
   "source": [
    "#### Plot candlestick chart for the last day in the available data set."
   ]
  },
  {
   "cell_type": "code",
   "execution_count": null,
   "id": "a5e66689-4dfe-4e6c-bb67-8aea1df7c666",
   "metadata": {},
   "outputs": [],
   "source": []
  },
  {
   "cell_type": "code",
   "execution_count": null,
   "id": "9ee6c9c7-9fab-422f-b307-882d13ff1107",
   "metadata": {},
   "outputs": [],
   "source": []
  },
  {
   "cell_type": "code",
   "execution_count": null,
   "id": "1379c9cb-cc55-44be-9523-52ef6f243a40",
   "metadata": {},
   "outputs": [],
   "source": []
  },
  {
   "cell_type": "code",
   "execution_count": null,
   "id": "ae54e7b7-25e9-42ec-8a1a-35b6e2dc06d5",
   "metadata": {},
   "outputs": [],
   "source": []
  },
  {
   "cell_type": "code",
   "execution_count": null,
   "id": "1487ba82-2cc6-44a1-8223-65810f1531cd",
   "metadata": {},
   "outputs": [],
   "source": []
  },
  {
   "cell_type": "code",
   "execution_count": null,
   "id": "fb078434-44fe-4b9a-bc08-2738265730f9",
   "metadata": {},
   "outputs": [],
   "source": []
  },
  {
   "cell_type": "markdown",
   "id": "d22edd93-5869-499c-abb6-6fb58f2f6f79",
   "metadata": {},
   "source": [
    "### Task 2: Plot the price of HDFC Bank stock price along with 60 days moving average."
   ]
  },
  {
   "cell_type": "code",
   "execution_count": 4,
   "id": "91d6e0ba-04d1-49c8-b25a-c4316ec3d18b",
   "metadata": {},
   "outputs": [
    {
     "name": "stdout",
     "output_type": "stream",
     "text": [
      "hdfc_bank_stock.parquet nifty_index.parquet\n"
     ]
    }
   ],
   "source": [
    "!ls ../05_data"
   ]
  },
  {
   "cell_type": "code",
   "execution_count": 5,
   "id": "c692446d-bb1c-409c-bd48-ff1cdad0b293",
   "metadata": {},
   "outputs": [],
   "source": [
    "df = pd.read_parquet('../05_data/hdfc_bank_stock.parquet', engine='pyarrow')"
   ]
  },
  {
   "cell_type": "code",
   "execution_count": null,
   "id": "f37fdb4e-8414-40e7-98cb-46636b5f9661",
   "metadata": {},
   "outputs": [],
   "source": []
  },
  {
   "cell_type": "markdown",
   "id": "f417eaa4-09c6-4616-b7cc-55ad6fe19724",
   "metadata": {},
   "source": [
    "#### Create 60 day moving average"
   ]
  },
  {
   "cell_type": "code",
   "execution_count": null,
   "id": "1472187e-84ec-42b2-9442-f89c52d95d7e",
   "metadata": {},
   "outputs": [],
   "source": []
  },
  {
   "cell_type": "markdown",
   "id": "5f0cdf0e-df74-4860-8eec-312582978f30",
   "metadata": {},
   "source": [
    "#### Plot Price with Moving average"
   ]
  },
  {
   "cell_type": "code",
   "execution_count": null,
   "id": "db7112c8-972f-4321-8881-6e14c805dcde",
   "metadata": {},
   "outputs": [],
   "source": []
  },
  {
   "cell_type": "code",
   "execution_count": null,
   "id": "73dcda70-7d17-4d1a-9205-5f7e83ffe0fe",
   "metadata": {},
   "outputs": [],
   "source": []
  },
  {
   "cell_type": "code",
   "execution_count": null,
   "id": "4168caa1-32f0-487c-b4dc-e9c145201b98",
   "metadata": {},
   "outputs": [],
   "source": []
  }
 ],
 "metadata": {
  "kernelspec": {
   "display_name": "Python 3 (ipykernel)",
   "language": "python",
   "name": "python3"
  },
  "language_info": {
   "codemirror_mode": {
    "name": "ipython",
    "version": 3
   },
   "file_extension": ".py",
   "mimetype": "text/x-python",
   "name": "python",
   "nbconvert_exporter": "python",
   "pygments_lexer": "ipython3",
   "version": "3.10.8"
  }
 },
 "nbformat": 4,
 "nbformat_minor": 5
}
